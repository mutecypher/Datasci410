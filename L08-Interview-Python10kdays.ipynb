{
 "cells": [
  {
   "cell_type": "markdown",
   "metadata": {},
   "source": [
    "# Interview Question - Python 10,000 Days\n",
    "\n",
    "When is the 10,000 anniversay of Python's Birthday? What day of the week did Python first appear?"
   ]
  },
  {
   "cell_type": "markdown",
   "metadata": {},
   "source": [
    "First let's explore dates and datetimes in Python"
   ]
  },
  {
   "cell_type": "code",
   "execution_count": 1,
   "metadata": {},
   "outputs": [],
   "source": [
    "import sys\n",
    "from io import StringIO\n",
    "import numpy as np\n",
    "import pandas as pd"
   ]
  },
  {
   "cell_type": "code",
   "execution_count": 2,
   "metadata": {},
   "outputs": [
    {
     "name": "stdout",
     "output_type": "stream",
     "text": [
      "<class 'str'>\n",
      "<class 'str'>\n",
      "<class 'str'>\n",
      "<class 'str'>\n"
     ]
    },
    {
     "data": {
      "text/html": [
       "<div>\n",
       "<style scoped>\n",
       "    .dataframe tbody tr th:only-of-type {\n",
       "        vertical-align: middle;\n",
       "    }\n",
       "\n",
       "    .dataframe tbody tr th {\n",
       "        vertical-align: top;\n",
       "    }\n",
       "\n",
       "    .dataframe thead th {\n",
       "        text-align: right;\n",
       "    }\n",
       "</style>\n",
       "<table border=\"1\" class=\"dataframe\">\n",
       "  <thead>\n",
       "    <tr style=\"text-align: right;\">\n",
       "      <th></th>\n",
       "      <th>month_day_year</th>\n",
       "      <th>day_month_year</th>\n",
       "      <th>date_time</th>\n",
       "      <th>year_month_day</th>\n",
       "    </tr>\n",
       "  </thead>\n",
       "  <tbody>\n",
       "    <tr>\n",
       "      <th>0</th>\n",
       "      <td>4/22/1996</td>\n",
       "      <td>22-Apr-96</td>\n",
       "      <td>Mon Apr 22 09:50:35 1996</td>\n",
       "      <td>1996-04-22</td>\n",
       "    </tr>\n",
       "    <tr>\n",
       "      <th>1</th>\n",
       "      <td>4/23/1996</td>\n",
       "      <td>23-Apr-96</td>\n",
       "      <td>Tue Apr 23 19:50:35 1996</td>\n",
       "      <td>1996-04-23</td>\n",
       "    </tr>\n",
       "    <tr>\n",
       "      <th>2</th>\n",
       "      <td>5/14/1996</td>\n",
       "      <td>14-May-96</td>\n",
       "      <td>Tue May 14 09:50:35 1996</td>\n",
       "      <td>1996-05-14</td>\n",
       "    </tr>\n",
       "    <tr>\n",
       "      <th>3</th>\n",
       "      <td>5/15/1996</td>\n",
       "      <td>15-May-96</td>\n",
       "      <td>Wed May 15 09:50:35 1996</td>\n",
       "      <td>1996-05-15</td>\n",
       "    </tr>\n",
       "    <tr>\n",
       "      <th>4</th>\n",
       "      <td>5/16/2001</td>\n",
       "      <td>16-May-01</td>\n",
       "      <td>Wed May 16 07:30:36 2001</td>\n",
       "      <td>2001-05-16</td>\n",
       "    </tr>\n",
       "  </tbody>\n",
       "</table>\n",
       "</div>"
      ],
      "text/plain": [
       "  month_day_year day_month_year                 date_time year_month_day\n",
       "0      4/22/1996      22-Apr-96  Mon Apr 22 09:50:35 1996     1996-04-22\n",
       "1      4/23/1996      23-Apr-96  Tue Apr 23 19:50:35 1996     1996-04-23\n",
       "2      5/14/1996      14-May-96  Tue May 14 09:50:35 1996     1996-05-14\n",
       "3      5/15/1996      15-May-96  Wed May 15 09:50:35 1996     1996-05-15\n",
       "4      5/16/2001      16-May-01  Wed May 16 07:30:36 2001     2001-05-16"
      ]
     },
     "execution_count": 2,
     "metadata": {},
     "output_type": "execute_result"
    }
   ],
   "source": [
    "date_data = StringIO(\"\"\"\n",
    "month_day_year\tday_month_year\tdate_time\tyear_month_day\n",
    "4/22/1996\t22-Apr-96\tMon Apr 22 09:50:35 1996\t1996-04-22\n",
    "4/23/1996\t23-Apr-96\tTue Apr 23 19:50:35 1996\t1996-04-23\n",
    "5/14/1996\t14-May-96\tTue May 14 09:50:35 1996\t1996-05-14\n",
    "5/15/1996\t15-May-96\tWed May 15 09:50:35 1996\t1996-05-15\n",
    "5/16/2001\t16-May-01\tWed May 16 07:30:36 2001\t2001-05-16\n",
    "5/17/2002\t17-May-02\tFri May 17 09:50:35 2002\t2002-05-17\n",
    "5/18/2003\t18-May-03\tSun May 18 09:50:35 2003\t2003-05-18\n",
    "5/19/2004\t19-May-04\tWed May 19 09:50:35 2004\t2004-05-19\n",
    "5/20/2005\t20-May-05\tFri May 20 19:40:25 2005\t2005-05-20\n",
    "\"\"\")\n",
    "\n",
    "date_df = pd.read_table(date_data)\n",
    "\n",
    "for col in date_df:\n",
    "    print(type(date_df[col][0]))\n",
    "\n",
    "date_df.head()"
   ]
  },
  {
   "cell_type": "markdown",
   "metadata": {},
   "source": [
    "We can convert columns to datetimes:"
   ]
  },
  {
   "cell_type": "code",
   "execution_count": 3,
   "metadata": {},
   "outputs": [
    {
     "name": "stdout",
     "output_type": "stream",
     "text": [
      "<class 'pandas._libs.tslibs.timestamps.Timestamp'>\n",
      "<class 'pandas._libs.tslibs.timestamps.Timestamp'>\n",
      "<class 'pandas._libs.tslibs.timestamps.Timestamp'>\n",
      "<class 'pandas._libs.tslibs.timestamps.Timestamp'>\n"
     ]
    },
    {
     "data": {
      "text/html": [
       "<div>\n",
       "<style scoped>\n",
       "    .dataframe tbody tr th:only-of-type {\n",
       "        vertical-align: middle;\n",
       "    }\n",
       "\n",
       "    .dataframe tbody tr th {\n",
       "        vertical-align: top;\n",
       "    }\n",
       "\n",
       "    .dataframe thead th {\n",
       "        text-align: right;\n",
       "    }\n",
       "</style>\n",
       "<table border=\"1\" class=\"dataframe\">\n",
       "  <thead>\n",
       "    <tr style=\"text-align: right;\">\n",
       "      <th></th>\n",
       "      <th>month_day_year</th>\n",
       "      <th>day_month_year</th>\n",
       "      <th>date_time</th>\n",
       "      <th>year_month_day</th>\n",
       "    </tr>\n",
       "  </thead>\n",
       "  <tbody>\n",
       "    <tr>\n",
       "      <th>0</th>\n",
       "      <td>1996-04-22</td>\n",
       "      <td>1996-04-22</td>\n",
       "      <td>1996-04-22 09:50:35</td>\n",
       "      <td>1996-04-22</td>\n",
       "    </tr>\n",
       "    <tr>\n",
       "      <th>1</th>\n",
       "      <td>1996-04-23</td>\n",
       "      <td>1996-04-23</td>\n",
       "      <td>1996-04-23 19:50:35</td>\n",
       "      <td>1996-04-23</td>\n",
       "    </tr>\n",
       "    <tr>\n",
       "      <th>2</th>\n",
       "      <td>1996-05-14</td>\n",
       "      <td>1996-05-14</td>\n",
       "      <td>1996-05-14 09:50:35</td>\n",
       "      <td>1996-05-14</td>\n",
       "    </tr>\n",
       "    <tr>\n",
       "      <th>3</th>\n",
       "      <td>1996-05-15</td>\n",
       "      <td>1996-05-15</td>\n",
       "      <td>1996-05-15 09:50:35</td>\n",
       "      <td>1996-05-15</td>\n",
       "    </tr>\n",
       "    <tr>\n",
       "      <th>4</th>\n",
       "      <td>2001-05-16</td>\n",
       "      <td>2001-05-16</td>\n",
       "      <td>2001-05-16 07:30:36</td>\n",
       "      <td>2001-05-16</td>\n",
       "    </tr>\n",
       "  </tbody>\n",
       "</table>\n",
       "</div>"
      ],
      "text/plain": [
       "  month_day_year day_month_year           date_time year_month_day\n",
       "0     1996-04-22     1996-04-22 1996-04-22 09:50:35     1996-04-22\n",
       "1     1996-04-23     1996-04-23 1996-04-23 19:50:35     1996-04-23\n",
       "2     1996-05-14     1996-05-14 1996-05-14 09:50:35     1996-05-14\n",
       "3     1996-05-15     1996-05-15 1996-05-15 09:50:35     1996-05-15\n",
       "4     2001-05-16     2001-05-16 2001-05-16 07:30:36     2001-05-16"
      ]
     },
     "execution_count": 3,
     "metadata": {},
     "output_type": "execute_result"
    }
   ],
   "source": [
    "date_df['month_day_year'] = pd.to_datetime(date_df['month_day_year'], errors='coerce')\n",
    "date_df['day_month_year'] = pd.to_datetime(date_df['day_month_year'], errors='coerce')\n",
    "date_df['date_time'] = pd.to_datetime(date_df['date_time'], errors='coerce')\n",
    "date_df['year_month_day'] = pd.to_datetime(date_df['year_month_day'], errors='coerce')\n",
    "\n",
    "for col in date_df:\n",
    "    print(type(date_df[col][0]))\n",
    "date_df.head()"
   ]
  },
  {
   "cell_type": "markdown",
   "metadata": {},
   "source": [
    "We can try to suggest date-times when reading in data though:"
   ]
  },
  {
   "cell_type": "code",
   "execution_count": 4,
   "metadata": {},
   "outputs": [
    {
     "name": "stdout",
     "output_type": "stream",
     "text": [
      "<class 'pandas._libs.tslibs.timestamps.Timestamp'>\n",
      "<class 'pandas._libs.tslibs.timestamps.Timestamp'>\n",
      "<class 'pandas._libs.tslibs.timestamps.Timestamp'>\n",
      "<class 'pandas._libs.tslibs.timestamps.Timestamp'>\n"
     ]
    },
    {
     "data": {
      "text/html": [
       "<div>\n",
       "<style scoped>\n",
       "    .dataframe tbody tr th:only-of-type {\n",
       "        vertical-align: middle;\n",
       "    }\n",
       "\n",
       "    .dataframe tbody tr th {\n",
       "        vertical-align: top;\n",
       "    }\n",
       "\n",
       "    .dataframe thead th {\n",
       "        text-align: right;\n",
       "    }\n",
       "</style>\n",
       "<table border=\"1\" class=\"dataframe\">\n",
       "  <thead>\n",
       "    <tr style=\"text-align: right;\">\n",
       "      <th></th>\n",
       "      <th>month_day_year</th>\n",
       "      <th>day_month_year</th>\n",
       "      <th>date_time</th>\n",
       "      <th>year_month_day</th>\n",
       "    </tr>\n",
       "  </thead>\n",
       "  <tbody>\n",
       "    <tr>\n",
       "      <th>0</th>\n",
       "      <td>1996-04-22</td>\n",
       "      <td>1996-04-22</td>\n",
       "      <td>1996-04-22 09:50:35</td>\n",
       "      <td>1996-04-22</td>\n",
       "    </tr>\n",
       "    <tr>\n",
       "      <th>1</th>\n",
       "      <td>1996-04-23</td>\n",
       "      <td>1996-04-23</td>\n",
       "      <td>1996-04-23 19:50:35</td>\n",
       "      <td>1996-04-23</td>\n",
       "    </tr>\n",
       "    <tr>\n",
       "      <th>2</th>\n",
       "      <td>1996-05-14</td>\n",
       "      <td>1996-05-14</td>\n",
       "      <td>1996-05-14 09:50:35</td>\n",
       "      <td>1996-05-14</td>\n",
       "    </tr>\n",
       "    <tr>\n",
       "      <th>3</th>\n",
       "      <td>1996-05-15</td>\n",
       "      <td>1996-05-15</td>\n",
       "      <td>1996-05-15 09:50:35</td>\n",
       "      <td>1996-05-15</td>\n",
       "    </tr>\n",
       "    <tr>\n",
       "      <th>4</th>\n",
       "      <td>2001-05-16</td>\n",
       "      <td>2001-05-16</td>\n",
       "      <td>2001-05-16 07:30:36</td>\n",
       "      <td>2001-05-16</td>\n",
       "    </tr>\n",
       "  </tbody>\n",
       "</table>\n",
       "</div>"
      ],
      "text/plain": [
       "  month_day_year day_month_year           date_time year_month_day\n",
       "0     1996-04-22     1996-04-22 1996-04-22 09:50:35     1996-04-22\n",
       "1     1996-04-23     1996-04-23 1996-04-23 19:50:35     1996-04-23\n",
       "2     1996-05-14     1996-05-14 1996-05-14 09:50:35     1996-05-14\n",
       "3     1996-05-15     1996-05-15 1996-05-15 09:50:35     1996-05-15\n",
       "4     2001-05-16     2001-05-16 2001-05-16 07:30:36     2001-05-16"
      ]
     },
     "execution_count": 4,
     "metadata": {},
     "output_type": "execute_result"
    }
   ],
   "source": [
    "date_data = StringIO(\"\"\"\n",
    "month_day_year\tday_month_year\tdate_time\tyear_month_day\n",
    "4/22/1996\t22-Apr-96\tMon Apr 22 09:50:35 1996\t1996-04-22\n",
    "4/23/1996\t23-Apr-96\tTue Apr 23 19:50:35 1996\t1996-04-23\n",
    "5/14/1996\t14-May-96\tTue May 14 09:50:35 1996\t1996-05-14\n",
    "5/15/1996\t15-May-96\tWed May 15 09:50:35 1996\t1996-05-15\n",
    "5/16/2001\t16-May-01\tWed May 16 07:30:36 2001\t2001-05-16\n",
    "5/17/2002\t17-May-02\tFri May 17 09:50:35 2002\t2002-05-17\n",
    "5/18/2003\t18-May-03\tSun May 18 09:50:35 2003\t2003-05-18\n",
    "5/19/2004\t19-May-04\tWed May 19 09:50:35 2004\t2004-05-19\n",
    "5/20/2005\t20-May-05\tFri May 20 19:40:25 2005\t2005-05-20\n",
    "\"\"\")\n",
    "date_df2 = pd.read_table(date_data, parse_dates=[0,1,2,3])\n",
    "\n",
    "for col in date_df2:\n",
    "    print(type(date_df2[col][0]))\n",
    "\n",
    "date_df2.head()"
   ]
  },
  {
   "cell_type": "markdown",
   "metadata": {},
   "source": [
    "What if we have an odd format that pandas can't guess?"
   ]
  },
  {
   "cell_type": "code",
   "execution_count": 5,
   "metadata": {},
   "outputs": [
    {
     "data": {
      "text/plain": [
       "Timestamp('2018-02-02 12:05:15')"
      ]
     },
     "execution_count": 5,
     "metadata": {},
     "output_type": "execute_result"
    }
   ],
   "source": [
    "strange_date = \"12:05:15 2018-02-02\"\n",
    "pd.to_datetime(strange_date, format= \"%H:%M:%S %Y-%d-%m\")"
   ]
  },
  {
   "cell_type": "markdown",
   "metadata": {},
   "source": [
    "For a list of formats see:\n",
    "\n",
    "https://docs.python.org/3/library/datetime.html#strftime-and-strptime-behavior\n",
    "\n",
    "\n",
    "--------------\n",
    "\n",
    "Now that Pandas knows we have a date, we can get specific properties about that date:"
   ]
  },
  {
   "cell_type": "code",
   "execution_count": 6,
   "metadata": {},
   "outputs": [
    {
     "data": {
      "text/html": [
       "<div>\n",
       "<style scoped>\n",
       "    .dataframe tbody tr th:only-of-type {\n",
       "        vertical-align: middle;\n",
       "    }\n",
       "\n",
       "    .dataframe tbody tr th {\n",
       "        vertical-align: top;\n",
       "    }\n",
       "\n",
       "    .dataframe thead th {\n",
       "        text-align: right;\n",
       "    }\n",
       "</style>\n",
       "<table border=\"1\" class=\"dataframe\">\n",
       "  <thead>\n",
       "    <tr style=\"text-align: right;\">\n",
       "      <th></th>\n",
       "      <th>year</th>\n",
       "      <th>month</th>\n",
       "      <th>day</th>\n",
       "      <th>hour</th>\n",
       "      <th>dayofyear</th>\n",
       "      <th>week</th>\n",
       "      <th>weekofyear</th>\n",
       "      <th>dayofweek</th>\n",
       "      <th>weekday</th>\n",
       "      <th>quarter</th>\n",
       "    </tr>\n",
       "  </thead>\n",
       "  <tbody>\n",
       "    <tr>\n",
       "      <th>0</th>\n",
       "      <td>1996</td>\n",
       "      <td>4</td>\n",
       "      <td>22</td>\n",
       "      <td>0</td>\n",
       "      <td>113</td>\n",
       "      <td>17</td>\n",
       "      <td>17</td>\n",
       "      <td>0</td>\n",
       "      <td>0</td>\n",
       "      <td>2</td>\n",
       "    </tr>\n",
       "    <tr>\n",
       "      <th>1</th>\n",
       "      <td>1996</td>\n",
       "      <td>4</td>\n",
       "      <td>23</td>\n",
       "      <td>0</td>\n",
       "      <td>114</td>\n",
       "      <td>17</td>\n",
       "      <td>17</td>\n",
       "      <td>1</td>\n",
       "      <td>1</td>\n",
       "      <td>2</td>\n",
       "    </tr>\n",
       "    <tr>\n",
       "      <th>2</th>\n",
       "      <td>1996</td>\n",
       "      <td>5</td>\n",
       "      <td>14</td>\n",
       "      <td>0</td>\n",
       "      <td>135</td>\n",
       "      <td>20</td>\n",
       "      <td>20</td>\n",
       "      <td>1</td>\n",
       "      <td>1</td>\n",
       "      <td>2</td>\n",
       "    </tr>\n",
       "    <tr>\n",
       "      <th>3</th>\n",
       "      <td>1996</td>\n",
       "      <td>5</td>\n",
       "      <td>15</td>\n",
       "      <td>0</td>\n",
       "      <td>136</td>\n",
       "      <td>20</td>\n",
       "      <td>20</td>\n",
       "      <td>2</td>\n",
       "      <td>2</td>\n",
       "      <td>2</td>\n",
       "    </tr>\n",
       "    <tr>\n",
       "      <th>4</th>\n",
       "      <td>2001</td>\n",
       "      <td>5</td>\n",
       "      <td>16</td>\n",
       "      <td>0</td>\n",
       "      <td>136</td>\n",
       "      <td>20</td>\n",
       "      <td>20</td>\n",
       "      <td>2</td>\n",
       "      <td>2</td>\n",
       "      <td>2</td>\n",
       "    </tr>\n",
       "    <tr>\n",
       "      <th>5</th>\n",
       "      <td>2002</td>\n",
       "      <td>5</td>\n",
       "      <td>17</td>\n",
       "      <td>0</td>\n",
       "      <td>137</td>\n",
       "      <td>20</td>\n",
       "      <td>20</td>\n",
       "      <td>4</td>\n",
       "      <td>4</td>\n",
       "      <td>2</td>\n",
       "    </tr>\n",
       "    <tr>\n",
       "      <th>6</th>\n",
       "      <td>2003</td>\n",
       "      <td>5</td>\n",
       "      <td>18</td>\n",
       "      <td>0</td>\n",
       "      <td>138</td>\n",
       "      <td>20</td>\n",
       "      <td>20</td>\n",
       "      <td>6</td>\n",
       "      <td>6</td>\n",
       "      <td>2</td>\n",
       "    </tr>\n",
       "    <tr>\n",
       "      <th>7</th>\n",
       "      <td>2004</td>\n",
       "      <td>5</td>\n",
       "      <td>19</td>\n",
       "      <td>0</td>\n",
       "      <td>140</td>\n",
       "      <td>21</td>\n",
       "      <td>21</td>\n",
       "      <td>2</td>\n",
       "      <td>2</td>\n",
       "      <td>2</td>\n",
       "    </tr>\n",
       "    <tr>\n",
       "      <th>8</th>\n",
       "      <td>2005</td>\n",
       "      <td>5</td>\n",
       "      <td>20</td>\n",
       "      <td>0</td>\n",
       "      <td>140</td>\n",
       "      <td>20</td>\n",
       "      <td>20</td>\n",
       "      <td>4</td>\n",
       "      <td>4</td>\n",
       "      <td>2</td>\n",
       "    </tr>\n",
       "  </tbody>\n",
       "</table>\n",
       "</div>"
      ],
      "text/plain": [
       "   year  month  day  hour  dayofyear  week  weekofyear  dayofweek  weekday  \\\n",
       "0  1996      4   22     0        113    17          17          0        0   \n",
       "1  1996      4   23     0        114    17          17          1        1   \n",
       "2  1996      5   14     0        135    20          20          1        1   \n",
       "3  1996      5   15     0        136    20          20          2        2   \n",
       "4  2001      5   16     0        136    20          20          2        2   \n",
       "5  2002      5   17     0        137    20          20          4        4   \n",
       "6  2003      5   18     0        138    20          20          6        6   \n",
       "7  2004      5   19     0        140    21          21          2        2   \n",
       "8  2005      5   20     0        140    20          20          4        4   \n",
       "\n",
       "   quarter  \n",
       "0        2  \n",
       "1        2  \n",
       "2        2  \n",
       "3        2  \n",
       "4        2  \n",
       "5        2  \n",
       "6        2  \n",
       "7        2  \n",
       "8        2  "
      ]
     },
     "execution_count": 6,
     "metadata": {},
     "output_type": "execute_result"
    }
   ],
   "source": [
    "column1 = date_df.iloc[:,0]\n",
    "\n",
    "pd.DataFrame({\"year\": column1.dt.year,\n",
    "              \"month\": column1.dt.month,\n",
    "              \"day\": column1.dt.day,\n",
    "              \"hour\": column1.dt.hour,\n",
    "              \"dayofyear\": column1.dt.dayofyear,\n",
    "              \"week\": column1.dt.week,\n",
    "              \"weekofyear\": column1.dt.weekofyear,\n",
    "              \"dayofweek\": column1.dt.dayofweek,\n",
    "              \"weekday\": column1.dt.weekday,\n",
    "              \"quarter\": column1.dt.quarter,\n",
    "             })"
   ]
  },
  {
   "cell_type": "markdown",
   "metadata": {},
   "source": [
    "We can also get native date differences (defaults to days) Note that anything larger than days doesn't have a fixed definition. (Months = 28, 30, or 31 days, Years = 365 or 366 days, etc...)"
   ]
  },
  {
   "cell_type": "code",
   "execution_count": 7,
   "metadata": {},
   "outputs": [
    {
     "name": "stdout",
     "output_type": "stream",
     "text": [
      "1996-04-23 00:00:00\n",
      "1996-05-15 00:00:00\n",
      "22 days 00:00:00\n",
      "<class 'pandas._libs.tslibs.timedeltas.Timedelta'>\n",
      "# of days: 22.0\n",
      "# of seconds: 1900800.0\n"
     ]
    }
   ],
   "source": [
    "print(date_df.iloc[1,0])\n",
    "print(date_df.iloc[3,0])\n",
    "diff = date_df.iloc[3,0]-date_df.iloc[1,0]\n",
    "print(diff)\n",
    "print(type(diff))\n",
    "\n",
    "diff_day_value = diff / np.timedelta64(1, 'D')\n",
    "print('# of days: {}'.format(diff_day_value))\n",
    "print('# of seconds: {}'.format(diff / np.timedelta64(1, 's')))"
   ]
  },
  {
   "cell_type": "markdown",
   "metadata": {},
   "source": [
    "### Today's date and past/future dates"
   ]
  },
  {
   "cell_type": "code",
   "execution_count": 8,
   "metadata": {},
   "outputs": [],
   "source": [
    "from datetime import datetime"
   ]
  },
  {
   "cell_type": "code",
   "execution_count": 9,
   "metadata": {},
   "outputs": [
    {
     "name": "stdout",
     "output_type": "stream",
     "text": [
      "2019-02-06 09:35:55.569494\n"
     ]
    }
   ],
   "source": [
    "today = datetime.now()\n",
    "print(today)"
   ]
  },
  {
   "cell_type": "markdown",
   "metadata": {},
   "source": [
    "## Python 10,000 days later\n",
    "From <a href=\"https://en.wikipedia.org/wiki/Python_(programming_language)\">Wikipedia</a>, we learn that Python first appeared on February 20, 1991."
   ]
  },
  {
   "cell_type": "code",
   "execution_count": 10,
   "metadata": {},
   "outputs": [],
   "source": [
    "pybday = '1991-02-20'"
   ]
  },
  {
   "cell_type": "code",
   "execution_count": 11,
   "metadata": {},
   "outputs": [
    {
     "name": "stdout",
     "output_type": "stream",
     "text": [
      "10,000 day birthday is: 2018-07-08\n"
     ]
    }
   ],
   "source": [
    "birthdate = np.datetime64(pybday)\n",
    "\n",
    "timedelta_10k = np.timedelta64(10000, 'D')\n",
    "\n",
    "print('10,000 day birthday is: {}'.format(birthdate + timedelta_10k))"
   ]
  },
  {
   "cell_type": "markdown",
   "metadata": {},
   "source": [
    "What day of the week was '1991-02-20'?"
   ]
  },
  {
   "cell_type": "code",
   "execution_count": 12,
   "metadata": {},
   "outputs": [
    {
     "data": {
      "text/plain": [
       "pandas._libs.tslibs.timestamps.Timestamp"
      ]
     },
     "execution_count": 12,
     "metadata": {},
     "output_type": "execute_result"
    }
   ],
   "source": [
    "first_date = pd.to_datetime(np.datetime64(pybday))\n",
    "type(first_date)"
   ]
  },
  {
   "cell_type": "code",
   "execution_count": 13,
   "metadata": {},
   "outputs": [
    {
     "data": {
      "text/plain": [
       "'Wednesday'"
      ]
     },
     "execution_count": 13,
     "metadata": {},
     "output_type": "execute_result"
    }
   ],
   "source": [
    "first_date.strftime('%A')"
   ]
  },
  {
   "cell_type": "code",
   "execution_count": null,
   "metadata": {},
   "outputs": [],
   "source": []
  }
 ],
 "metadata": {
  "kernelspec": {
   "display_name": "Python 3",
   "language": "python",
   "name": "python3"
  },
  "language_info": {
   "codemirror_mode": {
    "name": "ipython",
    "version": 3
   },
   "file_extension": ".py",
   "mimetype": "text/x-python",
   "name": "python",
   "nbconvert_exporter": "python",
   "pygments_lexer": "ipython3",
   "version": "3.6.6"
  }
 },
 "nbformat": 4,
 "nbformat_minor": 2
}
