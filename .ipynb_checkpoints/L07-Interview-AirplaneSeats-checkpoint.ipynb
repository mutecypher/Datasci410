{
 "cells": [
  {
   "cell_type": "markdown",
   "metadata": {},
   "source": [
    "# Probability Interview Question\n",
    "\n",
    "### Question:\n",
    "\n",
    "There are 100 airline passengers and 100 seats. If the first person to board is crazy and will ignore the seat # and sit wherever, and the subsequent sane 99 people will take their assigned seat unless theirs is already taken (then they will take a random seat) then...\n",
    "\n",
    "What is the probability that the last person (100th person) will sit in the correct seat?"
   ]
  },
  {
   "cell_type": "code",
   "execution_count": 1,
   "metadata": {},
   "outputs": [],
   "source": [
    "import numpy as np\n",
    "import matplotlib.pyplot as plt"
   ]
  },
  {
   "cell_type": "code",
   "execution_count": 2,
   "metadata": {},
   "outputs": [],
   "source": [
    "# -----Parameters------\n",
    "seats = [x + 1 for x in range(100)]\n",
    "total_people = len(seats)"
   ]
  },
  {
   "cell_type": "code",
   "execution_count": 3,
   "metadata": {},
   "outputs": [
    {
     "name": "stdout",
     "output_type": "stream",
     "text": [
      "First person sat in seat #43\n",
      "Seat numbers taken so far: [43]\n",
      "Person count so far: 2\n"
     ]
    }
   ],
   "source": [
    "# -----First Person-----\n",
    "people_count = 1\n",
    "seats_taken = []\n",
    "first_seat = np.random.choice(seats, 1)[0]\n",
    "seats = list(set(seats).difference({first_seat}))\n",
    "people_count = people_count + 1\n",
    "seats_taken.append(first_seat)\n",
    "\n",
    "print('First person sat in seat #{}'.format(first_seat))\n",
    "print('Seat numbers taken so far: {}'.format(seats_taken))\n",
    "print('Person count so far: {}'.format(people_count))"
   ]
  },
  {
   "cell_type": "markdown",
   "metadata": {},
   "source": [
    "Now we just loop through the rest of the passengers..."
   ]
  },
  {
   "cell_type": "code",
   "execution_count": 4,
   "metadata": {},
   "outputs": [],
   "source": [
    "while people_count <= total_people:\n",
    "    # First check if the person can take thier own seat\n",
    "    if people_count in seats:\n",
    "        # take that seat\n",
    "        seats = list(set(seats).difference({people_count}))\n",
    "        seats_taken.append(people_count)\n",
    "    else:\n",
    "        # take a random seat\n",
    "        rand_seat = np.random.choice(seats, 1)[0]\n",
    "        # Remove that seat from choices\n",
    "        seats = list(set(seats).difference({rand_seat}))\n",
    "        seats_taken.append(rand_seat)\n",
    "    \n",
    "    # Increase people count\n",
    "    people_count += 1"
   ]
  },
  {
   "cell_type": "code",
   "execution_count": 5,
   "metadata": {},
   "outputs": [
    {
     "name": "stdout",
     "output_type": "stream",
     "text": [
      "Is the last seat taken correct? Answer: True\n",
      "Last seat taken: 100\n"
     ]
    }
   ],
   "source": [
    "# -----Check if last seat is '100'-----\n",
    "last_correct = seats_taken[total_people-1] == total_people\n",
    "print('Is the last seat taken correct? Answer: {}'.format(last_correct))\n",
    "print('Last seat taken: {}'.format(seats_taken[total_people-1]))"
   ]
  },
  {
   "cell_type": "markdown",
   "metadata": {},
   "source": [
    "Let's functionalize this! (So we can do this over and over and get an emperical probability."
   ]
  },
  {
   "cell_type": "code",
   "execution_count": 6,
   "metadata": {},
   "outputs": [],
   "source": [
    "##----Make function, repeat-----\n",
    "def check_last_seat(num_seats):\n",
    "    seats = [x + 1 for x in range(num_seats)]\n",
    "    total_people = num_seats\n",
    "    # First person:\n",
    "    people_count = 1\n",
    "    seats_taken = []\n",
    "    first_seat = np.random.choice(seats, 1)[0]\n",
    "    seats = list(set(seats).difference({first_seat}))\n",
    "    people_count = people_count + 1\n",
    "    seats_taken.append(first_seat)\n",
    "    \n",
    "    # Loop through\n",
    "    while people_count <= total_people:\n",
    "        # First check if the person can take thier own seat\n",
    "        if people_count in seats:\n",
    "            # take that seat\n",
    "            seats = list(set(seats).difference({people_count}))\n",
    "            seats_taken.append(people_count)\n",
    "        else:\n",
    "            # take a random seat\n",
    "            rand_seat = np.random.choice(seats, 1)[0]\n",
    "            # Remove that seat from choices\n",
    "            seats = list(set(seats).difference({rand_seat}))\n",
    "            seats_taken.append(rand_seat)\n",
    "    \n",
    "        # Increase people count\n",
    "        people_count += 1\n",
    "    \n",
    "    # Return True or False if last seat is correct\n",
    "    return seats_taken[total_people-1] == total_people"
   ]
  },
  {
   "cell_type": "code",
   "execution_count": 7,
   "metadata": {},
   "outputs": [
    {
     "name": "stdout",
     "output_type": "stream",
     "text": [
      "emperical probability: 0.493\n"
     ]
    }
   ],
   "source": [
    "##----Run Simulation-----\n",
    "n = 1000\n",
    "outcomes = []\n",
    "for ix in range(n):\n",
    "    outcomes.append(check_last_seat(100))\n",
    "\n",
    "print('emperical probability: {}'.format(sum(outcomes)/n))"
   ]
  },
  {
   "cell_type": "markdown",
   "metadata": {},
   "source": [
    "Let's run this for multiple number of seats!\n",
    "\n",
    "seats = 5, 10, 15, 20, 25, ..., 145, 150."
   ]
  },
  {
   "cell_type": "code",
   "execution_count": 8,
   "metadata": {},
   "outputs": [],
   "source": [
    "def run_sim(n_sims, n_seats):\n",
    "    outcomes = []\n",
    "    for ix in range(n_sims):\n",
    "        outcomes.append(check_last_seat(n_seats))\n",
    "    \n",
    "    return np.sum(outcomes)/n_sims"
   ]
  },
  {
   "cell_type": "code",
   "execution_count": 9,
   "metadata": {
    "scrolled": true
   },
   "outputs": [
    {
     "name": "stdout",
     "output_type": "stream",
     "text": [
      "Done with seat #5 simulation.\n",
      "Done with seat #10 simulation.\n",
      "Done with seat #15 simulation.\n",
      "Done with seat #20 simulation.\n",
      "Done with seat #25 simulation.\n",
      "Done with seat #30 simulation.\n",
      "Done with seat #35 simulation.\n",
      "Done with seat #40 simulation.\n",
      "Done with seat #45 simulation.\n",
      "Done with seat #50 simulation.\n",
      "Done with seat #55 simulation.\n",
      "Done with seat #60 simulation.\n",
      "Done with seat #65 simulation.\n",
      "Done with seat #70 simulation.\n",
      "Done with seat #75 simulation.\n",
      "Done with seat #80 simulation.\n",
      "Done with seat #85 simulation.\n",
      "Done with seat #90 simulation.\n",
      "Done with seat #95 simulation.\n",
      "Done with seat #100 simulation.\n",
      "Done with seat #105 simulation.\n",
      "Done with seat #110 simulation.\n",
      "Done with seat #115 simulation.\n",
      "Done with seat #120 simulation.\n",
      "Done with seat #125 simulation.\n",
      "Done with seat #130 simulation.\n",
      "Done with seat #135 simulation.\n",
      "Done with seat #140 simulation.\n",
      "Done with seat #145 simulation.\n",
      "Done with seat #150 simulation.\n"
     ]
    }
   ],
   "source": [
    "# Run 500 times for seat #'s 5 through 150\n",
    "seat_seq = np.arange(5, 151, 5)\n",
    "emp_prob_seq = []\n",
    "for ix, seat_num in enumerate(seat_seq):\n",
    "    emp_prob_seq.append(run_sim(n_sims=500, n_seats=seat_num))\n",
    "    print('Done with seat #{} simulation.'.format(seat_num))"
   ]
  },
  {
   "cell_type": "markdown",
   "metadata": {},
   "source": [
    "Plot the outputs!"
   ]
  },
  {
   "cell_type": "code",
   "execution_count": 10,
   "metadata": {},
   "outputs": [
    {
     "data": {
      "text/plain": [
       "<matplotlib.legend.Legend at 0x11a6da208>"
      ]
     },
     "execution_count": 10,
     "metadata": {},
     "output_type": "execute_result"
    },
    {
     "data": {
      "image/png": "[encoded data removed]",
      "text/plain": [
       "<Figure size 432x288 with 1 Axes>"
      ]
     },
     "metadata": {},
     "output_type": "display_data"
    }
   ],
   "source": [
    "plt.plot(seat_seq, emp_prob_seq, label='Emperical')\n",
    "plt.axhline(y=0.5, linestyle='--', color='red', label='Theoretical')\n",
    "plt.title('Number of Seats vs Emperical Probability')\n",
    "plt.xlabel('Number of Seats')\n",
    "plt.ylabel('Probability')\n",
    "plt.ylim([0, 1])\n",
    "plt.grid()\n",
    "plt.legend()"
   ]
  },
  {
   "cell_type": "code",
   "execution_count": null,
   "metadata": {},
   "outputs": [],
   "source": []
  }
 ],
 "metadata": {
  "kernelspec": {
   "display_name": "Python 3",
   "language": "python",
   "name": "python3"
  },
  "language_info": {
   "codemirror_mode": {
    "name": "ipython",
    "version": 3
   },
   "file_extension": ".py",
   "mimetype": "text/x-python",
   "name": "python",
   "nbconvert_exporter": "python",
   "pygments_lexer": "ipython3",
   "version": "3.6.6"
  }
 },
 "nbformat": 4,
 "nbformat_minor": 2
}
