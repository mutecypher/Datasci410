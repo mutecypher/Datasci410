{
 "cells": [
  {
   "cell_type": "markdown",
   "metadata": {},
   "source": [
    "\n",
    "## Lesson 3 Assignment - Monty Hall Simulation\n",
    "\n",
    "Author - Mike Pearson\n",
    "\n",
    "Instructions\n",
    "Simulate the conditional probabilities of the distributions for winning a car vs. a goat for the Monty Hall Problem that includes the following:\n",
    "the cases for switching or not switching\n",
    "histograms and summary statistics (at least mean and variance) of the results for winning the car or a goat for both strategies: switching or not switching\n",
    "comparison of the cases to determine the best strategy\n",
    "recommended strategy\n",
    "Note:\n",
    "Please clearly outline the results and your recommendation with markdown text. Be sure your discussion includes narrative for your figures and tables so it is clear to the reader the importance of each bit of evidence."
   ]
  },
  {
   "cell_type": "code",
   "execution_count": 7,
   "metadata": {},
   "outputs": [
    {
     "name": "stdout",
     "output_type": "stream",
     "text": [
      "6\n"
     ]
    },
    {
     "data": {
      "text/html": [
       "<div>\n",
       "<style scoped>\n",
       "    .dataframe tbody tr th:only-of-type {\n",
       "        vertical-align: middle;\n",
       "    }\n",
       "\n",
       "    .dataframe tbody tr th {\n",
       "        vertical-align: top;\n",
       "    }\n",
       "\n",
       "    .dataframe thead th {\n",
       "        text-align: right;\n",
       "    }\n",
       "</style>\n",
       "<table border=\"1\" class=\"dataframe\">\n",
       "  <thead>\n",
       "    <tr style=\"text-align: right;\">\n",
       "      <th></th>\n",
       "      <th>door1</th>\n",
       "      <th>door2</th>\n",
       "      <th>door3</th>\n",
       "    </tr>\n",
       "  </thead>\n",
       "  <tbody>\n",
       "    <tr>\n",
       "      <th>0</th>\n",
       "      <td>goat</td>\n",
       "      <td>goat</td>\n",
       "      <td>car</td>\n",
       "    </tr>\n",
       "    <tr>\n",
       "      <th>1</th>\n",
       "      <td>goat</td>\n",
       "      <td>car</td>\n",
       "      <td>goat</td>\n",
       "    </tr>\n",
       "    <tr>\n",
       "      <th>2</th>\n",
       "      <td>goat</td>\n",
       "      <td>goat</td>\n",
       "      <td>car</td>\n",
       "    </tr>\n",
       "    <tr>\n",
       "      <th>3</th>\n",
       "      <td>goat</td>\n",
       "      <td>car</td>\n",
       "      <td>goat</td>\n",
       "    </tr>\n",
       "    <tr>\n",
       "      <th>4</th>\n",
       "      <td>car</td>\n",
       "      <td>goat</td>\n",
       "      <td>goat</td>\n",
       "    </tr>\n",
       "    <tr>\n",
       "      <th>5</th>\n",
       "      <td>car</td>\n",
       "      <td>goat</td>\n",
       "      <td>goat</td>\n",
       "    </tr>\n",
       "  </tbody>\n",
       "</table>\n",
       "</div>"
      ],
      "text/plain": [
       "  door1 door2 door3\n",
       "0  goat  goat   car\n",
       "1  goat   car  goat\n",
       "2  goat  goat   car\n",
       "3  goat   car  goat\n",
       "4   car  goat  goat\n",
       "5   car  goat  goat"
      ]
     },
     "execution_count": 7,
     "metadata": {},
     "output_type": "execute_result"
    }
   ],
   "source": [
    "# Import libraries\n",
    "import numpy as np\n",
    "import itertools\n",
    "import pandas as pd\n",
    "\n",
    "goat1 = 'goat'\n",
    "goat2 = 'goat'\n",
    "car = 'car'\n",
    "\n",
    "\n",
    "doors = pandas.DataFrame(\n",
    "    list(itertools.permutations(['goat', 'goat', 'car'],3)), \n",
    "    columns=['door1', 'door2', 'door3'])\n",
    "print(len(doors))\n",
    "doors.head(20)"
   ]
  },
  {
   "cell_type": "markdown",
   "metadata": {},
   "source": [
    "Let's see what we have"
   ]
  },
  {
   "cell_type": "code",
   "execution_count": 8,
   "metadata": {},
   "outputs": [
    {
     "data": {
      "text/plain": [
       "[('Car behind Door1', 0.326),\n",
       " ('car behind Door2', 0.362),\n",
       " ('car behind Door3', 0.312)]"
      ]
     },
     "execution_count": 8,
     "metadata": {},
     "output_type": "execute_result"
    }
   ],
   "source": [
    "pGoattry1 = 2/3\n",
    "pCartry1 = 1/3\n",
    "def sim_car(num_samples):\n",
    "  car_probas = [\n",
    "      1/3,  # goat\n",
    "      1/3,  # car\n",
    "      1/3,\n",
    "  ]\n",
    "  \n",
    "  return list(zip(\n",
    "      ['Car behind Door1', 'car behind Door2', 'car behind Door3'], \n",
    "      numpy.random.multinomial(num_samples, car_probas)/num_samples))\n",
    "  \n",
    "sim_car(1000)"
   ]
  },
  {
   "cell_type": "markdown",
   "metadata": {},
   "source": [
    "If you choose door x, what is probability that you will win the car if you do not switch?\n",
    "\n",
    "Clearly that is just the probability that the car is behind the door.\n",
    "\n",
    "What if you switch doors?\n",
    "\n",
    "If you choose door 1 and Monte opens door 2."
   ]
  },
  {
   "cell_type": "code",
   "execution_count": 15,
   "metadata": {},
   "outputs": [
    {
     "name": "stdout",
     "output_type": "stream",
     "text": [
      "3\n"
     ]
    }
   ],
   "source": [
    "doors = [x + 1 for x in range(3)]\n",
    "total_doors = len(doors)\n",
    "print(total_doors)"
   ]
  },
  {
   "cell_type": "code",
   "execution_count": 16,
   "metadata": {},
   "outputs": [
    {
     "name": "stdout",
     "output_type": "stream",
     "text": [
      "Car is behind door #3\n",
      "Number of doors: [3]\n",
      "Number of goats: 2\n"
     ]
    }
   ],
   "source": [
    "door_count = 1\n",
    "doors_taken = []\n",
    "car = np.random.choice(doors, 1)[0]\n",
    "doors = list(set(doors).difference({car}))\n",
    "door_count = door_count + 1\n",
    "doors_taken.append(car)\n",
    "\n",
    "print('Car is behind door #{}'.format(car))\n",
    "print('Number of doors: {}'.format(doors_taken ))\n",
    "print('Number of goats: {}'.format(door_count))"
   ]
  },
  {
   "cell_type": "code",
   "execution_count": null,
   "metadata": {},
   "outputs": [],
   "source": []
  }
 ],
 "metadata": {
  "kernelspec": {
   "display_name": "Python 3",
   "language": "python",
   "name": "python3"
  },
  "language_info": {
   "codemirror_mode": {
    "name": "ipython",
    "version": 3
   },
   "file_extension": ".py",
   "mimetype": "text/x-python",
   "name": "python",
   "nbconvert_exporter": "python",
   "pygments_lexer": "ipython3",
   "version": "3.6.6"
  }
 },
 "nbformat": 4,
 "nbformat_minor": 2
}
