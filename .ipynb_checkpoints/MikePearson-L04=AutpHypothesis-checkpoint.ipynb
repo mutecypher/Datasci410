{
 "cells": [
  {
   "cell_type": "markdown",
   "metadata": {},
   "source": [
    "We will begin by downloading the data set"
   ]
  },
  {
   "cell_type": "code",
   "execution_count": 132,
   "metadata": {},
   "outputs": [
    {
     "name": "stdout",
     "output_type": "stream",
     "text": [
      "   symboling normalized-losses         make fuel-type aspiration num-of-doors  \\\n",
      "0          3                 ?  alfa-romero       gas        std          two   \n",
      "1          3                 ?  alfa-romero       gas        std          two   \n",
      "2          1                 ?  alfa-romero       gas        std          two   \n",
      "3          2               164         audi       gas        std         four   \n",
      "4          2               164         audi       gas        std         four   \n",
      "\n",
      "    body-style drive-wheels engine-location  wheel-base  ...    engine-size  \\\n",
      "0  convertible          rwd           front        88.6  ...            130   \n",
      "1  convertible          rwd           front        88.6  ...            130   \n",
      "2    hatchback          rwd           front        94.5  ...            152   \n",
      "3        sedan          fwd           front        99.8  ...            109   \n",
      "4        sedan          4wd           front        99.4  ...            136   \n",
      "\n",
      "   fuel-system  bore  stroke compression-ratio horsepower  peak-rpm city-mpg  \\\n",
      "0         mpfi  3.47    2.68               9.0        111      5000       21   \n",
      "1         mpfi  3.47    2.68               9.0        111      5000       21   \n",
      "2         mpfi  2.68    3.47               9.0        154      5000       19   \n",
      "3         mpfi  3.19    3.40              10.0        102      5500       24   \n",
      "4         mpfi  3.19    3.40               8.0        115      5500       18   \n",
      "\n",
      "  highway-mpg  price  \n",
      "0          27  13495  \n",
      "1          27  16500  \n",
      "2          26  16500  \n",
      "3          30  13950  \n",
      "4          22  17450  \n",
      "\n",
      "[5 rows x 26 columns]\n",
      "symboling              int64\n",
      "normalized-losses     object\n",
      "make                  object\n",
      "fuel-type             object\n",
      "aspiration            object\n",
      "num-of-doors          object\n",
      "body-style            object\n",
      "drive-wheels          object\n",
      "engine-location       object\n",
      "wheel-base           float64\n",
      "length               float64\n",
      "width                float64\n",
      "height               float64\n",
      "curb-weight            int64\n",
      "engine-type           object\n",
      "num-of-cylinders      object\n",
      "engine-size            int64\n",
      "fuel-system           object\n",
      "bore                  object\n",
      "stroke                object\n",
      "compression-ratio    float64\n",
      "horsepower            object\n",
      "peak-rpm              object\n",
      "city-mpg               int64\n",
      "highway-mpg            int64\n",
      "price                 object\n",
      "dtype: object\n",
      "?        4\n",
      "5572     2\n",
      "13499    2\n",
      "6692     2\n",
      "8845     2\n",
      "8495     2\n",
      "7295     2\n",
      "6229     2\n",
      "7609     2\n",
      "7957     2\n",
      "18150    2\n",
      "16500    2\n",
      "9279     2\n",
      "7775     2\n",
      "8921     2\n",
      "7898     2\n",
      "36000    1\n",
      "7975     1\n",
      "6669     1\n",
      "17075    1\n",
      "25552    1\n",
      "9980     1\n",
      "11694    1\n",
      "6849     1\n",
      "15580    1\n",
      "13415    1\n",
      "11595    1\n",
      "15645    1\n",
      "5499     1\n",
      "9538     1\n",
      "        ..\n",
      "31600    1\n",
      "13645    1\n",
      "8558     1\n",
      "10345    1\n",
      "45400    1\n",
      "16558    1\n",
      "6938     1\n",
      "11048    1\n",
      "7395     1\n",
      "12940    1\n",
      "10595    1\n",
      "17450    1\n",
      "9095     1\n",
      "8195     1\n",
      "6649     1\n",
      "9295     1\n",
      "10945    1\n",
      "16430    1\n",
      "6695     1\n",
      "15998    1\n",
      "20970    1\n",
      "12764    1\n",
      "11248    1\n",
      "13845    1\n",
      "18280    1\n",
      "6189     1\n",
      "17199    1\n",
      "15690    1\n",
      "11845    1\n",
      "7129     1\n",
      "Name: price, Length: 187, dtype: int64\n"
     ]
    }
   ],
   "source": [
    "fileName = \"https://library.startlearninglabs.uw.edu/DATASCI410/Datasets/Automobile%20price%20data%20_Raw_.csv\"\n",
    "import pandas as pd\n",
    "import numpy as np\n",
    "import numpy.random as nr\n",
    "import matplotlib.pyplot as plt\n",
    "import scipy.stats as ss\n",
    "import seaborn as sbn\n",
    "\n",
    "auto_data = pd.read_csv(fileName)\n",
    "print(auto_data.head())\n",
    "print(auto_data.dtypes)\n",
    "print(auto_data['price'].value_counts())"
   ]
  },
  {
   "cell_type": "markdown",
   "metadata": {},
   "source": [
    "I will replace the ? with the mean value"
   ]
  },
  {
   "cell_type": "code",
   "execution_count": 134,
   "metadata": {},
   "outputs": [
    {
     "name": "stdout",
     "output_type": "stream",
     "text": [
      "13207.129353233831\n",
      "[13495.         16500.         13950.         17450.\n",
      " 15250.         17710.         18920.         23875.\n",
      " 13207.12935323 16430.         16925.         20970.\n",
      " 21105.         24565.         30760.         41315.\n",
      " 36880.          5151.          6295.          6575.\n",
      "  5572.          6377.          7957.          6229.\n",
      "  6692.          7609.          8558.          8921.\n",
      " 12964.          6479.          6855.          5399.\n",
      "  6529.          7129.          7295.          7895.\n",
      "  9095.          8845.         10295.         12945.\n",
      " 10345.          6785.         11048.         32250.\n",
      " 35550.         36000.          5195.          6095.\n",
      "  6795.          6695.          7395.         10945.\n",
      " 11845.         13645.         15645.          8495.\n",
      " 10595.         10245.         10795.         11245.\n",
      " 18280.         18344.         25552.         28248.\n",
      " 28176.         31600.         34184.         35056.\n",
      " 40960.         45400.         16503.          5389.\n",
      "  6189.          6669.          7689.          9959.\n",
      "  8499.         12629.         14869.         14489.\n",
      "  6989.          8189.          9279.          5499.\n",
      "  7099.          6649.          6849.          7349.\n",
      "  7299.          7799.          7499.          7999.\n",
      "  8249.          8949.          9549.         13499.\n",
      " 14399.         17199.         19699.         18399.\n",
      " 11900.         13200.         12440.         13860.\n",
      " 15580.         16900.         16695.         17075.\n",
      " 16630.         17950.         18150.         12764.\n",
      " 22018.         32528.         34028.         37028.\n",
      "  9295.          9895.         11850.         12170.\n",
      " 15040.         15510.         18620.          5118.\n",
      "  7053.          7603.          7126.          7775.\n",
      "  9960.          9233.         11259.          7463.\n",
      " 10198.          8013.         11694.          5348.\n",
      "  6338.          6488.          6918.          7898.\n",
      "  8778.          6938.          7198.          7788.\n",
      "  7738.          8358.          9258.          8058.\n",
      "  8238.          9298.          9538.          8449.\n",
      "  9639.          9989.         11199.         11549.\n",
      " 17669.          8948.         10698.          9988.\n",
      " 10898.         11248.         16558.         15998.\n",
      " 15690.         15750.          7975.          7995.\n",
      "  8195.          9495.          9995.         11595.\n",
      "  9980.         13295.         13845.         12290.\n",
      " 12940.         13415.         15985.         16515.\n",
      " 18420.         18950.         16845.         19045.\n",
      " 21485.         22470.         22625.        ]\n"
     ]
    }
   ],
   "source": [
    "##auto_data['price'] = auto_data['price'].replace('?', np.NaN)\n",
    "auto_data['price']= auto_data['price'].replace(to_replace = \"?\", value = float(\"NaN\"))\n",
    "auto_data['price'] = pd.to_numeric(auto_data['price'], errors ='coerce')\n",
    "price_out = np.isnan(auto_data['price'])\n",
    "freemean = np.nanmean(auto_data['price'], axis = 0)\n",
    "auto_data['price']= auto_data['price'].replace(to_replace = float(\"NaN\"), value = freemean)\n",
    "##auto_data['price'] = auto_data[price_out,'price']= freemean\n",
    "##print(auto_data['price'].value_counts())\n",
    "print(freemean)\n",
    "##auto_data['zoom'] = auto_data['zoom'].replace(\"nan\", freemean)\n",
    "print(auto_data['price'].unique())\n"
   ]
  },
  {
   "cell_type": "markdown",
   "metadata": {},
   "source": [
    "Now I will compare the data in the price to a normal distribution. I will first normalize the price "
   ]
  },
  {
   "cell_type": "code",
   "execution_count": 136,
   "metadata": {},
   "outputs": [
    {
     "name": "stdout",
     "output_type": "stream",
     "text": [
      "[13495.         16500.         13950.         17450.\n",
      " 15250.         17710.         18920.         23875.\n",
      " 13207.12935323 16430.         16925.         20970.\n",
      " 21105.         24565.         30760.         41315.\n",
      " 36880.          5151.          6295.          6575.\n",
      "  5572.          6377.          7957.          6229.\n",
      "  6692.          7609.          8558.          8921.\n",
      " 12964.          6479.          6855.          5399.\n",
      "  6529.          7129.          7295.          7895.\n",
      "  9095.          8845.         10295.         12945.\n",
      " 10345.          6785.         11048.         32250.\n",
      " 35550.         36000.          5195.          6095.\n",
      "  6795.          6695.          7395.         10945.\n",
      " 11845.         13645.         15645.          8495.\n",
      " 10595.         10245.         10795.         11245.\n",
      " 18280.         18344.         25552.         28248.\n",
      " 28176.         31600.         34184.         35056.\n",
      " 40960.         45400.         16503.          5389.\n",
      "  6189.          6669.          7689.          9959.\n",
      "  8499.         12629.         14869.         14489.\n",
      "  6989.          8189.          9279.          5499.\n",
      "  7099.          6649.          6849.          7349.\n",
      "  7299.          7799.          7499.          7999.\n",
      "  8249.          8949.          9549.         13499.\n",
      " 14399.         17199.         19699.         18399.\n",
      " 11900.         13200.         12440.         13860.\n",
      " 15580.         16900.         16695.         17075.\n",
      " 16630.         17950.         18150.         12764.\n",
      " 22018.         32528.         34028.         37028.\n",
      "  9295.          9895.         11850.         12170.\n",
      " 15040.         15510.         18620.          5118.\n",
      "  7053.          7603.          7126.          7775.\n",
      "  9960.          9233.         11259.          7463.\n",
      " 10198.          8013.         11694.          5348.\n",
      "  6338.          6488.          6918.          7898.\n",
      "  8778.          6938.          7198.          7788.\n",
      "  7738.          8358.          9258.          8058.\n",
      "  8238.          9298.          9538.          8449.\n",
      "  9639.          9989.         11199.         11549.\n",
      " 17669.          8948.         10698.          9988.\n",
      " 10898.         11248.         16558.         15998.\n",
      " 15690.         15750.          7975.          7995.\n",
      "  8195.          9495.          9995.         11595.\n",
      "  9980.         13295.         13845.         12290.\n",
      " 12940.         13415.         15985.         16515.\n",
      " 18420.         18950.         16845.         19045.\n",
      " 21485.         22470.         22625.        ]\n"
     ]
    },
    {
     "data": {
      "image/png": "[encoded data removed]",
      "text/plain": [
       "<Figure size 432x432 with 1 Axes>"
      ]
     },
     "metadata": {},
     "output_type": "display_data"
    }
   ],
   "source": [
    "price = auto_data.loc[:,'price']\n",
    "price_norm = (price - price.mean()) / (price.max() - price.min())\n",
    "norm1 = nr.normal(size = len(price_norm)).tolist()\n",
    "plt.figure(figsize=(6, 6)).gca() # define axis\n",
    "ax1 = plt.subplot(221) \n",
    "##plotty = ss.probplot(price_norm, plot = ax1)\n",
    "##plt.show()## Plot the right subplot\n",
    "plt.scatter(x = sorted(norm1), y = sorted(price_norm))\n",
    "plt.xlabel('Quantiles of normal distribution')\n",
    "plt.ylabel('Quantiles of normed price')\n",
    "plt.title('Q-Q plot of Normal distribution versus normed Price distribution')\n",
    "print(price.unique())"
   ]
  },
  {
   "cell_type": "markdown",
   "metadata": {},
   "source": [
    "This does not look like a Q-Q plot for a normal distribution versus another normal distribution. Let's do the Kolmogorov-Smirnov test and confirm numerically."
   ]
  },
  {
   "cell_type": "code",
   "execution_count": 143,
   "metadata": {},
   "outputs": [
    {
     "name": "stdout",
     "output_type": "stream",
     "text": [
      "-0.20081250566590117\n",
      "0.7991874943340989\n",
      "-1.3945484333706235e-17\n",
      "0.1953420438991063\n",
      "KstestResult(statistic=0.42042259200527643, pvalue=0.0)\n"
     ]
    },
    {
     "data": {
      "image/png": "[encoded data removed]",
      "text/plain": [
       "<Figure size 432x288 with 1 Axes>"
      ]
     },
     "metadata": {},
     "output_type": "display_data"
    }
   ],
   "source": [
    "from sklearn.preprocessing import scale\n",
    "norm1 = nr.normal(size = len(price_norm)).tolist()\n",
    "price_norm_s = scale(price_norm)\n",
    "print(price_norm.min())\n",
    "print(price_norm.max())\n",
    "print(price_norm.mean())\n",
    "print(price_norm.std())\n",
    "plot_cums(norm1_s, price_norm_s) \n",
    "##def ks_test(dat, dist = 'norm'):\n",
    "##    from scipy.stats import kstest \n",
    "##    ks_statisic, pvalue = kstest(dat, dist)\n",
    "##    print('KS-statistic = ' + str(ks_statisic))\n",
    "##    print('P-value = ' + str(pvalue))\n",
    "##ks_test(price_norm_s)  \n",
    "##print(price_norm.value_counts())\n",
    "##print(price_norm.unique())\n",
    "print(ss.kstest(price_norm, 'norm'))"
   ]
  },
  {
   "cell_type": "markdown",
   "metadata": {},
   "source": [
    "The k-statistic is high, and the p-value is 0 - so we can reject the Null hypothesis that the two distributions (normed price and a normal distribution) are the same type. \n",
    "\n",
    "\n",
    "Now let's look at the log of price"
   ]
  },
  {
   "cell_type": "code",
   "execution_count": 137,
   "metadata": {},
   "outputs": [
    {
     "data": {
      "text/plain": [
       "Text(0.5, 1.0, 'Q-Q plot of Normal distribution versus normed log of  Price distribution')"
      ]
     },
     "execution_count": 137,
     "metadata": {},
     "output_type": "execute_result"
    },
    {
     "data": {
      "image/png": "[encoded data removed]",
      "text/plain": [
       "<Figure size 432x288 with 1 Axes>"
      ]
     },
     "metadata": {},
     "output_type": "display_data"
    }
   ],
   "source": [
    "log_price = np.log(price)\n",
    "log_price_norm = (log_price - log_price.mean()) / (log_price.max() - log_price.min())\n",
    "plt.scatter(x = sorted(norm1), y = sorted(log_price_norm))\n",
    "plt.xlabel('Quantiles of normal distribution')\n",
    "plt.ylabel('Quantiles of normed log price')\n",
    "plt.title('Q-Q plot of Normal distribution versus normed log of  Price distribution')\n",
    "##print(log_price_norm.value_counts())"
   ]
  },
  {
   "cell_type": "markdown",
   "metadata": {},
   "source": [
    "The curve looks close to a straight line, but there is \"some\" difference"
   ]
  },
  {
   "cell_type": "code",
   "execution_count": 144,
   "metadata": {},
   "outputs": [
    {
     "name": "stdout",
     "output_type": "stream",
     "text": [
      "KstestResult(statistic=0.0920981305795644, pvalue=0.057912340878556456)\n"
     ]
    },
    {
     "data": {
      "image/png": "[encoded data removed]",
      "text/plain": [
       "<Figure size 432x288 with 1 Axes>"
      ]
     },
     "metadata": {},
     "output_type": "display_data"
    }
   ],
   "source": [
    "norm2_s = nr.normal(size = len(log_price_norm)).tolist()\n",
    "log_price_norm_s = scale(log_price_norm)\n",
    "plot_cums(norm2_s, log_price_norm_s) \n",
    "##def ks_test(dat, dist = 'norm'):\n",
    "##    from scipy.stats import kstest \n",
    "##    ks_statisic, pvalue = kstest(dat, dist)\n",
    "##    print('KS-statistic = ' + str(ks_statisic))\n",
    "##    print('P-value = ' + str(pvalue))\n",
    "##ks_test(price_norm_s)  \n",
    "##print(price_norm.value_counts())\n",
    "##print(price_norm.unique())\n",
    "print(ss.kstest(log_price_norm_s, 'norm'))"
   ]
  },
  {
   "cell_type": "markdown",
   "metadata": {},
   "source": [
    "The p-value is close to 0.05 and the k-stastic is kinda small and close to 0 - but we can reject the Null hypothesis that the two distribtions are the same type."
   ]
  },
  {
   "cell_type": "code",
   "execution_count": null,
   "metadata": {},
   "outputs": [],
   "source": []
  }
 ],
 "metadata": {
  "kernelspec": {
   "display_name": "Python 3",
   "language": "python",
   "name": "python3"
  },
  "language_info": {
   "codemirror_mode": {
    "name": "ipython",
    "version": 3
   },
   "file_extension": ".py",
   "mimetype": "text/x-python",
   "name": "python",
   "nbconvert_exporter": "python",
   "pygments_lexer": "ipython3",
   "version": "3.6.6"
  }
 },
 "nbformat": 4,
 "nbformat_minor": 2
}
