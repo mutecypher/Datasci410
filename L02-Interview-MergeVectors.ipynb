{
 "cells": [
  {
   "cell_type": "markdown",
   "metadata": {},
   "source": [
    "# Interview Question\n",
    "\n",
    "### Merge 2 already-sorted vectors into 1 sorted vector"
   ]
  },
  {
   "cell_type": "code",
   "execution_count": 1,
   "metadata": {},
   "outputs": [],
   "source": [
    "# Create and sort vectors\n",
    "a = [1, 4, 9, 0, 0, 2, 4, 4, 6, 7, 11, 1, 0, 3, 7, 8, 1, 3]\n",
    "b = [5, 6, 7, 1, 1, 0, 9, 12, -10, 4, 4, 2, 7]\n",
    "a.sort()\n",
    "b.sort()"
   ]
  },
  {
   "cell_type": "code",
   "execution_count": 2,
   "metadata": {},
   "outputs": [
    {
     "name": "stdout",
     "output_type": "stream",
     "text": [
      "a: [0, 0, 0, 1, 1, 1, 2, 3, 3, 4, 4, 4, 6, 7, 7, 8, 9, 11]\n",
      "b: [-10, 0, 1, 1, 2, 4, 4, 5, 6, 7, 7, 9, 12]\n"
     ]
    }
   ],
   "source": [
    "print('a: {}'.format(a))\n",
    "print('b: {}'.format(b))"
   ]
  },
  {
   "cell_type": "code",
   "execution_count": 3,
   "metadata": {},
   "outputs": [],
   "source": [
    "# Non-pythonic way:\n",
    "# Initialize indices of where we are:\n",
    "\n",
    "a_ix = 0 # input 1\n",
    "b_ix = 0 # input 2\n",
    "\n",
    "c = []\n",
    "\n",
    "# Start while-loop\n",
    "while ( (a_ix < len(a)) and (b_ix < len(b)) ):   # Fill in c, until one index runs out\n",
    "    if (a[a_ix] < b[b_ix]):                        # If the next element of a is smaller,\n",
    "        c.append(a[a_ix])                          #  - then add a-element to c\n",
    "        a_ix += 1                                  #  - increment the index of a\n",
    "    else:                                          # Else (elemet of b is smaller)\n",
    "        c.append(b[b_ix])                          #  - then add b-element to c\n",
    "        b_ix += 1                                  #  - increment the index of b\n",
    "\n",
    "# But, since a or b might be different lengths, we need to check and finish off c\n",
    "while ( (a_ix < len(a)) ): # Check if any a left\n",
    "    c.append(a[a_ix])\n",
    "    a_ix += 1\n",
    "\n",
    "while ( (b_ix < len(b)) ): # Check if any b left\n",
    "    c.append(b[b_ix])\n",
    "    b_ix += 1"
   ]
  },
  {
   "cell_type": "code",
   "execution_count": 4,
   "metadata": {},
   "outputs": [
    {
     "name": "stdout",
     "output_type": "stream",
     "text": [
      "[-10, 0, 0, 0, 0, 1, 1, 1, 1, 1, 2, 2, 3, 3, 4, 4, 4, 4, 4, 5, 6, 6, 7, 7, 7, 7, 8, 9, 9, 11, 12]\n"
     ]
    }
   ],
   "source": [
    "print(c)"
   ]
  },
  {
   "cell_type": "code",
   "execution_count": 5,
   "metadata": {},
   "outputs": [],
   "source": [
    "# Pythonic way\n",
    "c_pythonic = a + b\n",
    "c_pythonic.sort()"
   ]
  },
  {
   "cell_type": "code",
   "execution_count": 6,
   "metadata": {},
   "outputs": [
    {
     "name": "stdout",
     "output_type": "stream",
     "text": [
      "[-10, 0, 0, 0, 0, 1, 1, 1, 1, 1, 2, 2, 3, 3, 4, 4, 4, 4, 4, 5, 6, 6, 7, 7, 7, 7, 8, 9, 9, 11, 12]\n"
     ]
    }
   ],
   "source": [
    "print(c_pythonic)"
   ]
  },
  {
   "cell_type": "markdown",
   "metadata": {},
   "source": [
    "## What about very large lists?"
   ]
  },
  {
   "cell_type": "code",
   "execution_count": 7,
   "metadata": {},
   "outputs": [],
   "source": [
    "import numpy as np\n",
    "import timeit\n",
    "import functools"
   ]
  },
  {
   "cell_type": "code",
   "execution_count": 8,
   "metadata": {},
   "outputs": [
    {
     "name": "stdout",
     "output_type": "stream",
     "text": [
      "a: [614 905 909  43 209 486  50 627 978 146]...\n",
      "b: [350 122 632 126 442  49 350 838 654 610]...\n"
     ]
    }
   ],
   "source": [
    "size = 10000\n",
    "a_large = np.random.choice(1000, size, replace=True)\n",
    "b_large = np.random.choice(1000, size, replace=True)\n",
    "\n",
    "print('a: {}...'.format(a_large[:10]))\n",
    "print('b: {}...'.format(b_large[:10]))"
   ]
  },
  {
   "cell_type": "code",
   "execution_count": 9,
   "metadata": {},
   "outputs": [],
   "source": [
    "# Functions for timing:\n",
    "def long_way(a, b):\n",
    "    a_ix = 0 # input 1\n",
    "    b_ix = 0 # input 2\n",
    "\n",
    "    c = []\n",
    "\n",
    "    # Start while-loop\n",
    "    while ( (a_ix < len(a)) and (b_ix < len(b)) ):   # Fill in c, until one index runs out\n",
    "        if (a[a_ix] < b[b_ix]):                        # If the next element of a is smaller,\n",
    "            c.append(a[a_ix])                          #  - then add a-element to c\n",
    "            a_ix += 1                                  #  - increment the index of a\n",
    "        else:                                          # Else (elemet of b is smaller)\n",
    "            c.append(b[b_ix])                          #  - then add b-element to c\n",
    "            b_ix += 1                                  #  - increment the index of b\n",
    "\n",
    "    # But, since a or b might be different lengths, we need to check and finish off c\n",
    "    while ( (a_ix < len(a)) ): # Check if any a left\n",
    "        c.append(a[a_ix])\n",
    "        a_ix += 1\n",
    "\n",
    "    while ( (b_ix < len(b)) ): # Check if any b left\n",
    "        c.append(b[b_ix])\n",
    "        b_ix += 1\n",
    "    \n",
    "    return c\n",
    "\n",
    "\n",
    "# Pythonic list way\n",
    "def pythonic_way(a, b):\n",
    "    c = a + b\n",
    "    return c.sort()\n",
    "\n",
    "\n",
    "# Numpy way\n",
    "def numpy_way(a, b):\n",
    "    c = np.concatenate([a, b])\n",
    "    c.sort()\n",
    "    return c\n",
    "\n",
    "\n",
    "# Round-about way; list --> array --> list\n",
    "def roundabout_way(a, b):\n",
    "    a_arr = np.array(a)\n",
    "    b_arr = np.array(b)\n",
    "    c_arr = numpy_way(a_arr, b_arr)\n",
    "    return c_arr.tolist()"
   ]
  },
  {
   "cell_type": "code",
   "execution_count": 10,
   "metadata": {},
   "outputs": [
    {
     "name": "stdout",
     "output_type": "stream",
     "text": [
      "Long way: 4.684570417972282 seconds\n",
      "Pythonic way: 4.223395021050237 seconds\n",
      "Numpy way: 0.8536424239864573 seconds\n",
      "Roundabout way: 2.2732910129707307 seconds\n"
     ]
    }
   ],
   "source": [
    "n_runs = 1000\n",
    "# Time long way\n",
    "t1 = timeit.Timer(functools.partial(long_way, a_large.tolist(), b_large.tolist()))\n",
    "print('Long way: {} seconds'.format(t1.timeit(n_runs)))\n",
    "\n",
    "# Time pythonic way\n",
    "t2 = timeit.Timer(functools.partial(pythonic_way, a_large.tolist(), b_large.tolist()))\n",
    "print('Pythonic way: {} seconds'.format(t2.timeit(n_runs)))\n",
    "\n",
    "# Numpy way\n",
    "t3 = timeit.Timer(functools.partial(numpy_way, a_large, b_large))\n",
    "print('Numpy way: {} seconds'.format(t3.timeit(n_runs)))\n",
    "# The above comparison probably isn't fair as it operates on arrays, not lists...\n",
    "\n",
    "# List --> array --> list way\n",
    "a_large_list = a_large.tolist()\n",
    "b_large_list = b_large.tolist()\n",
    "t4 = timeit.Timer(functools.partial(roundabout_way, a_large_list, b_large_list))\n",
    "print('Roundabout way: {} seconds'.format(t4.timeit(n_runs)))"
   ]
  },
  {
   "cell_type": "code",
   "execution_count": null,
   "metadata": {},
   "outputs": [],
   "source": []
  },
  {
   "cell_type": "code",
   "execution_count": null,
   "metadata": {},
   "outputs": [],
   "source": []
  }
 ],
 "metadata": {
  "kernelspec": {
   "display_name": "Python 3",
   "language": "python",
   "name": "python3"
  },
  "language_info": {
   "codemirror_mode": {
    "name": "ipython",
    "version": 3
   },
   "file_extension": ".py",
   "mimetype": "text/x-python",
   "name": "python",
   "nbconvert_exporter": "python",
   "pygments_lexer": "ipython3",
   "version": "3.6.6"
  }
 },
 "nbformat": 4,
 "nbformat_minor": 1
}
