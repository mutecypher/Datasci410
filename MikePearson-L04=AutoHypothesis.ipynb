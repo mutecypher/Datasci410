{
 "cells": [
  {
   "cell_type": "markdown",
   "metadata": {},
   "source": [
    "We will begin by downloading the data set"
   ]
  },
  {
   "cell_type": "code",
   "execution_count": 5,
   "metadata": {},
   "outputs": [
    {
     "name": "stdout",
     "output_type": "stream",
     "text": [
      "   symboling normalized-losses         make fuel-type aspiration num-of-doors  \\\n",
      "0          3                 ?  alfa-romero       gas        std          two   \n",
      "1          3                 ?  alfa-romero       gas        std          two   \n",
      "2          1                 ?  alfa-romero       gas        std          two   \n",
      "3          2               164         audi       gas        std         four   \n",
      "4          2               164         audi       gas        std         four   \n",
      "\n",
      "    body-style drive-wheels engine-location  wheel-base  ...    engine-size  \\\n",
      "0  convertible          rwd           front        88.6  ...            130   \n",
      "1  convertible          rwd           front        88.6  ...            130   \n",
      "2    hatchback          rwd           front        94.5  ...            152   \n",
      "3        sedan          fwd           front        99.8  ...            109   \n",
      "4        sedan          4wd           front        99.4  ...            136   \n",
      "\n",
      "   fuel-system  bore  stroke compression-ratio horsepower  peak-rpm city-mpg  \\\n",
      "0         mpfi  3.47    2.68               9.0        111      5000       21   \n",
      "1         mpfi  3.47    2.68               9.0        111      5000       21   \n",
      "2         mpfi  2.68    3.47               9.0        154      5000       19   \n",
      "3         mpfi  3.19    3.40              10.0        102      5500       24   \n",
      "4         mpfi  3.19    3.40               8.0        115      5500       18   \n",
      "\n",
      "  highway-mpg  price  \n",
      "0          27  13495  \n",
      "1          27  16500  \n",
      "2          26  16500  \n",
      "3          30  13950  \n",
      "4          22  17450  \n",
      "\n",
      "[5 rows x 26 columns]\n",
      "symboling              int64\n",
      "normalized-losses     object\n",
      "make                  object\n",
      "fuel-type             object\n",
      "aspiration            object\n",
      "num-of-doors          object\n",
      "body-style            object\n",
      "drive-wheels          object\n",
      "engine-location       object\n",
      "wheel-base           float64\n",
      "length               float64\n",
      "width                float64\n",
      "height               float64\n",
      "curb-weight            int64\n",
      "engine-type           object\n",
      "num-of-cylinders      object\n",
      "engine-size            int64\n",
      "fuel-system           object\n",
      "bore                  object\n",
      "stroke                object\n",
      "compression-ratio    float64\n",
      "horsepower            object\n",
      "peak-rpm              object\n",
      "city-mpg               int64\n",
      "highway-mpg            int64\n",
      "price                 object\n",
      "dtype: object\n"
     ]
    }
   ],
   "source": [
    "fileName = \"https://library.startlearninglabs.uw.edu/DATASCI410/Datasets/Automobile%20price%20data%20_Raw_.csv\"\n",
    "import pandas as pd\n",
    "import numpy as np\n",
    "import numpy.random as nr\n",
    "import matplotlib.pyplot as plt\n",
    "import scipy.stats as ss\n",
    "import seaborn as sbn\n",
    "\n",
    "auto_data = pd.read_csv(fileName)\n",
    "print(auto_data.head())\n",
    "print(auto_data.dtypes)"
   ]
  },
  {
   "cell_type": "markdown",
   "metadata": {},
   "source": [
    "I will replace the ? with the mean value"
   ]
  },
  {
   "cell_type": "code",
   "execution_count": 6,
   "metadata": {},
   "outputs": [
    {
     "name": "stdout",
     "output_type": "stream",
     "text": [
      "13207.129353233831\n"
     ]
    }
   ],
   "source": [
    "##auto_data['price'] = auto_data['price'].replace('?', np.NaN)\n",
    "auto_data['price']= auto_data['price'].replace(to_replace = \"?\", value = float(\"NaN\"))\n",
    "auto_data['price'] = pd.to_numeric(auto_data['price'], errors ='coerce')\n",
    "price_out = np.isnan(auto_data['price'])\n",
    "freemean = np.nanmean(auto_data['price'], axis = 0)\n",
    "auto_data['price']= auto_data['price'].replace(to_replace = float(\"NaN\"), value = freemean)\n",
    "##auto_data['price'] = auto_data[price_out,'price']= freemean\n",
    "##print(auto_data['price'].value_counts())\n",
    "print(freemean)\n",
    "##auto_data['zoom'] = auto_data['zoom'].replace(\"nan\", freemean)\n",
    "##print(auto_data['price'].unique())\n"
   ]
  },
  {
   "cell_type": "markdown",
   "metadata": {},
   "source": [
    "Now I will compare the data in the price to a normal distribution. I will first normalize the price "
   ]
  },
  {
   "cell_type": "code",
   "execution_count": 7,
   "metadata": {},
   "outputs": [
    {
     "data": {
      "text/plain": [
       "Text(0.5, 1.0, 'Q-Q plot of Normal distribution versus normed Price distribution')"
      ]
     },
     "execution_count": 7,
     "metadata": {},
     "output_type": "execute_result"
    },
    {
     "data": {
      "image/png": "[encoded data removed]",
      "text/plain": [
       "<Figure size 432x432 with 1 Axes>"
      ]
     },
     "metadata": {},
     "output_type": "display_data"
    }
   ],
   "source": [
    "price = auto_data.loc[:,'price']\n",
    "price_norm = (price - price.mean()) / (price.max() - price.min())\n",
    "norm1 = nr.normal(size = len(price_norm)).tolist()\n",
    "plt.figure(figsize=(6, 6)).gca() # define axis\n",
    "ax1 = plt.subplot(221) \n",
    "##plotty = ss.probplot(price_norm, plot = ax1)\n",
    "##plt.show()## Plot the right subplot\n",
    "plt.scatter(x = sorted(norm1), y = sorted(price_norm))\n",
    "plt.xlabel('Quantiles of normal distribution')\n",
    "plt.ylabel('Quantiles of normed price')\n",
    "plt.title('Q-Q plot of Normal distribution versus normed Price distribution')\n",
    "##print(price.unique())"
   ]
  },
  {
   "cell_type": "markdown",
   "metadata": {},
   "source": [
    "This does not look like a Q-Q plot for a normal distribution versus another normal distribution. Let's do the Kolmogorov-Smirnov test and confirm numerically."
   ]
  },
  {
   "cell_type": "code",
   "execution_count": 9,
   "metadata": {},
   "outputs": [
    {
     "name": "stdout",
     "output_type": "stream",
     "text": [
      "the minimum normed price is  -0.20081250566590117\n",
      "the maximum normed price is  0.7991874943340989\n",
      "the mean normed price of is  -1.3945484333706235e-17\n",
      "the standard deviation of the normed price is 0.1953420438991063\n"
     ]
    },
    {
     "ename": "NameError",
     "evalue": "name 'plt_cums' is not defined",
     "output_type": "error",
     "traceback": [
      "\u001b[0;31m---------------------------------------------------------------------------\u001b[0m",
      "\u001b[0;31mNameError\u001b[0m                                 Traceback (most recent call last)",
      "\u001b[0;32m<ipython-input-9-618b859a53ff>\u001b[0m in \u001b[0;36m<module>\u001b[0;34m\u001b[0m\n\u001b[1;32m      8\u001b[0m \u001b[0mprint\u001b[0m\u001b[0;34m(\u001b[0m\u001b[0;34m\"the standard deviation of the normed price is\"\u001b[0m\u001b[0;34m,\u001b[0m\u001b[0mprice_norm\u001b[0m\u001b[0;34m.\u001b[0m\u001b[0mstd\u001b[0m\u001b[0;34m(\u001b[0m\u001b[0;34m)\u001b[0m\u001b[0;34m)\u001b[0m\u001b[0;34m\u001b[0m\u001b[0m\n\u001b[1;32m      9\u001b[0m \u001b[0;34m\u001b[0m\u001b[0m\n\u001b[0;32m---> 10\u001b[0;31m \u001b[0mplt_cums\u001b[0m\u001b[0;34m(\u001b[0m\u001b[0mnorm1\u001b[0m\u001b[0;34m,\u001b[0m \u001b[0mprice_norm_s\u001b[0m\u001b[0;34m)\u001b[0m\u001b[0;34m\u001b[0m\u001b[0m\n\u001b[0m\u001b[1;32m     11\u001b[0m \u001b[0;31m##def ks_test(dat, dist = 'norm'):\u001b[0m\u001b[0;34m\u001b[0m\u001b[0;34m\u001b[0m\u001b[0m\n\u001b[1;32m     12\u001b[0m \u001b[0;31m##    from scipy.stats import kstest\u001b[0m\u001b[0;34m\u001b[0m\u001b[0;34m\u001b[0m\u001b[0m\n",
      "\u001b[0;31mNameError\u001b[0m: name 'plt_cums' is not defined"
     ]
    }
   ],
   "source": [
    "from sklearn.preprocessing import scale\n",
    "%matplotlib inline\n",
    "norm1 = nr.normal(size = len(price_norm)).tolist()\n",
    "price_norm_s = scale(price_norm)\n",
    "print(\"the minimum normed price is \", price_norm.min())\n",
    "print(\"the maximum normed price is \",price_norm.max())\n",
    "print(\"the mean normed price of is \", price_norm.mean())\n",
    "print(\"the standard deviation of the normed price is\",price_norm.std())\n",
    "\n",
    "plt_cums(norm1, price_norm_s) \n",
    "##def ks_test(dat, dist = 'norm'):\n",
    "##    from scipy.stats import kstest \n",
    "##    ks_statisic, pvalue = kstest(dat, dist)\n",
    "##    print('KS-statistic = ' + str(ks_statisic))\n",
    "##    print('P-value = ' + str(pvalue))\n",
    "##ks_test(price_norm_s)  \n",
    "##print(price_norm.value_counts())\n",
    "##print(price_norm.unique())\n",
    "print(\"The KS test result and the p value are\", ss.kstest(price_norm, 'norm'))"
   ]
  },
  {
   "cell_type": "markdown",
   "metadata": {},
   "source": [
    "The k-statistic is high, and the p-value is 0 - so <b>we can reject the Null hypothesis that the two distributions (normed price and a normal distribution) are the same type</b>. \n",
    "\n",
    "\n",
    "Now let's look at the log of price"
   ]
  },
  {
   "cell_type": "code",
   "execution_count": 64,
   "metadata": {},
   "outputs": [
    {
     "data": {
      "text/plain": [
       "Text(0.5, 1.0, 'Q-Q plot of Normal distribution versus normed log of  Price distribution')"
      ]
     },
     "execution_count": 64,
     "metadata": {},
     "output_type": "execute_result"
    },
    {
     "data": {
      "image/png": "[encoded data removed]",
      "text/plain": [
       "<Figure size 432x288 with 1 Axes>"
      ]
     },
     "metadata": {},
     "output_type": "display_data"
    }
   ],
   "source": [
    "log_price = np.log(price)\n",
    "auto_data['log price'] = log_price\n",
    "log_price_norm = (log_price - log_price.mean()) / (log_price.max() - log_price.min())\n",
    "plt.scatter(x = sorted(norm1), y = sorted(log_price_norm))\n",
    "plt.xlabel('Quantiles of normal distribution')\n",
    "plt.ylabel('Quantiles of normed log price')\n",
    "plt.title('Q-Q plot of Normal distribution versus normed log of  Price distribution')\n",
    "##print(log_price_norm.value_counts())"
   ]
  },
  {
   "cell_type": "markdown",
   "metadata": {},
   "source": [
    "The curve looks close to a straight line, but there is \"some\" difference"
   ]
  },
  {
   "cell_type": "code",
   "execution_count": 65,
   "metadata": {},
   "outputs": [
    {
     "name": "stdout",
     "output_type": "stream",
     "text": [
      "the mean of the normed log price is  1.971322833968571e-15\n",
      "the standard deviation of the normed log price is  0.22800298367529123\n",
      "KstestResult(statistic=0.0920981305795644, pvalue=0.057912340878556456)\n"
     ]
    },
    {
     "data": {
      "image/png": "[encoded data removed]",
      "text/plain": [
       "<Figure size 432x288 with 1 Axes>"
      ]
     },
     "metadata": {},
     "output_type": "display_data"
    }
   ],
   "source": [
    "norm2_s = nr.normal(size = len(log_price_norm)).tolist()\n",
    "log_price_norm_s = scale(log_price_norm)\n",
    "plot_cums(norm2_s, log_price_norm_s) \n",
    "print(\"the mean of the normed log price is \", log_price_norm.mean())\n",
    "print(\"the standard deviation of the normed log price is \",log_price_norm.std())\n",
    "print(ss.kstest(log_price_norm_s, 'norm'))"
   ]
  },
  {
   "cell_type": "markdown",
   "metadata": {},
   "source": [
    "The p-value is close to 0.05 and the k-stastic is kinda small and close to 0 - but <b>we can reject the Null hypothesis that the two distribtions are the same type.</b>\n",
    "\n",
    "<b>For work on the rest of the assignment I will use the normed log of the price since it is close to a normal distribution - certainly closer than the price normed.</b>"
   ]
  },
  {
   "cell_type": "code",
   "execution_count": 66,
   "metadata": {},
   "outputs": [
    {
     "name": "stdout",
     "output_type": "stream",
     "text": [
      "           count      mean\n",
      "fuel-type                 \n",
      "diesel        20  0.093737\n",
      "gas          185 -0.010134\n"
     ]
    }
   ],
   "source": [
    "auto_data['log price']= log_price_norm\n",
    "fuel_type = auto_data.groupby('fuel-type')\n",
    "fuel_typez = pd.DataFrame({'count': fuel_type.size(), \n",
    "                       'mean': fuel_type.aggregate(np.mean).loc[:, 'log price']})\n",
    "print(fuel_typez.head())\n"
   ]
  },
  {
   "cell_type": "markdown",
   "metadata": {},
   "source": [
    "There are sufficient data points in both sides that we will run a standard t-test."
   ]
  },
  {
   "cell_type": "code",
   "execution_count": 67,
   "metadata": {},
   "outputs": [
    {
     "data": {
      "image/png": "[encoded data removed]",
      "text/plain": [
       "<Figure size 432x288 with 2 Axes>"
      ]
     },
     "metadata": {},
     "output_type": "display_data"
    }
   ],
   "source": [
    "auto_data.loc[:,\"gas\"] = auto_data.loc[:,\"fuel-type\"].isin(['gas']).astype(int)\n",
    "auto_data.loc[:,\"diesel\"] = auto_data.loc[:,\"fuel-type\"].isin(['diesel']).astype(int)\n",
    "auto_gas = auto_data.query('gas == 1')\n",
    "auto_diesel = auto_data.query('diesel == 1')\n",
    "def hist_plot(vec, bins):\n",
    "    from statistics import mean\n",
    "    plt.hist(vec, bins = bins)\n",
    "    plt.axvline(mean(vec), color = 'red')\n",
    "    plt.ylabel('Frequency')\n",
    "    plt.xlabel('Value')\n",
    "    \n",
    "    \n",
    "def plot_pop(a, b, c, nbins = 20):\n",
    "    minx = min([min(a), min(b)])\n",
    "    maxx = max([max(a), max(b)])\n",
    "    stepx = (maxx - minx)/(nbins + 1)\n",
    "    bins = [minx + i * stepx for i in range(nbins + 1)]\n",
    "    plt.subplot(2, 1, 1) # The first plot\n",
    "    hist_plot(a, bins)\n",
    "    plt.title(c)\n",
    "    plt.subplot(2, 1, 2) # The next plot\n",
    "    hist_plot(b, bins)\n",
    "\n",
    "plot_pop(auto_gas.loc[:,\"log price\"], auto_diesel.loc[:,\"log price\"],'histogram of log price of gas(top) and diesel(bottom)')  \n"
   ]
  },
  {
   "cell_type": "markdown",
   "metadata": {},
   "source": [
    "We can see that there are different means. Let's look at the t-test results below."
   ]
  },
  {
   "cell_type": "code",
   "execution_count": 68,
   "metadata": {},
   "outputs": [
    {
     "name": "stdout",
     "output_type": "stream",
     "text": [
      "DegFreedom    23.430594\n",
      "Difference    -0.103871\n",
      "Statistic     -1.948658\n",
      "PValue         0.052714\n",
      "Low95CI       -0.212778\n",
      "High95CI       0.005036\n",
      "dtype: float64\n"
     ]
    }
   ],
   "source": [
    "def t_test(a, b, alpha, alternative='two-sided'):\n",
    "    from scipy import stats\n",
    "    import scipy.stats as ss\n",
    "    import pandas as pd\n",
    "    import statsmodels.stats.weightstats as ws\n",
    "    \n",
    "    diff = a.mean() - b.mean()\n",
    "\n",
    "    res = ss.ttest_ind(a, b)\n",
    "      \n",
    "    means = ws.CompareMeans(ws.DescrStatsW(a), ws.DescrStatsW(b))\n",
    "    confint = means.tconfint_diff(alpha=alpha, alternative=alternative, usevar='unequal') \n",
    "    degfree = means.dof_satt()\n",
    "\n",
    "    index = ['DegFreedom', 'Difference', 'Statistic', 'PValue', 'Low95CI', 'High95CI']\n",
    "    return pd.Series([degfree, diff, res[0], res[1], confint[0], confint[1]], index = index)   \n",
    "   \n",
    "\n",
    "test = t_test(auto_gas.loc[:,\"log price\"],auto_diesel.loc[:,\"log price\"], 0.05)\n",
    "print(test)"
   ]
  },
  {
   "cell_type": "markdown",
   "metadata": {},
   "source": [
    "This is above our p-value of 0.05 - hence <b>we do not reject the null hypothesis that the two distributions have no significant difference in means</b>.\n",
    "\n",
    "We will now look at the aspirations and see if there is a sigfinicant difference in means."
   ]
  },
  {
   "cell_type": "code",
   "execution_count": 69,
   "metadata": {},
   "outputs": [
    {
     "name": "stdout",
     "output_type": "stream",
     "text": [
      "            count      mean\n",
      "aspiration                 \n",
      "std           168 -0.027183\n",
      "turbo          37  0.123424\n"
     ]
    }
   ],
   "source": [
    "auto_aspiration = auto_data.groupby('aspiration')\n",
    "auto_aspy = pd.DataFrame({'count': auto_aspiration.size(), \n",
    "                       'mean': auto_aspiration.aggregate(np.mean).loc[:, 'log price']})\n",
    "print(auto_aspy.head())\n",
    "\n"
   ]
  },
  {
   "cell_type": "markdown",
   "metadata": {},
   "source": [
    "There are sufficient data points in both sides that we will run a standard t-test."
   ]
  },
  {
   "cell_type": "code",
   "execution_count": 70,
   "metadata": {},
   "outputs": [
    {
     "data": {
      "image/png": "[encoded data removed]",
      "text/plain": [
       "<Figure size 432x288 with 2 Axes>"
      ]
     },
     "metadata": {},
     "output_type": "display_data"
    }
   ],
   "source": [
    "auto_data.loc[:,\"standard\"] = auto_data.loc[:,\"aspiration\"].isin(['std']).astype(int)\n",
    "auto_data.loc[:,\"turbo\"] = auto_data.loc[:,\"aspiration\"].isin(['turbo']).astype(int)\n",
    "auto_standard = auto_data.query('standard == 1')\n",
    "auto_turbo = auto_data.query('turbo == 1')\n",
    "\n",
    "\n",
    "plot_pop(auto_standard.loc[:,\"log price\"], auto_turbo.loc[:,\"log price\"],'histogram of log price of standard (top) versus turbo(bottom)')  "
   ]
  },
  {
   "cell_type": "markdown",
   "metadata": {},
   "source": [
    "We see that the means are different. Let's run the t-test to see if it is significant."
   ]
  },
  {
   "cell_type": "code",
   "execution_count": 71,
   "metadata": {},
   "outputs": [
    {
     "name": "stdout",
     "output_type": "stream",
     "text": [
      "DegFreedom    67.122761\n",
      "Difference    -0.150606\n",
      "Statistic     -3.752098\n",
      "PValue         0.000229\n",
      "Low95CI       -0.217634\n",
      "High95CI      -0.083579\n",
      "dtype: float64\n"
     ]
    }
   ],
   "source": [
    "test = t_test(auto_standard.loc[:,\"log price\"],auto_turbo.loc[:,\"log price\"], 0.05)\n",
    "print(test)"
   ]
  },
  {
   "cell_type": "markdown",
   "metadata": {},
   "source": [
    "The p-value is low, and the 95% confidence interval does NOT contain 0 - so we can reject the NULL hypothesis that the means are the same.  The difference in log price is <b>significant for aspiration</b>.\n",
    "\n",
    "\n",
    "We will now look at rear versus front wheel drive and see if there is a significant difference in means."
   ]
  },
  {
   "cell_type": "code",
   "execution_count": 72,
   "metadata": {},
   "outputs": [
    {
     "name": "stdout",
     "output_type": "stream",
     "text": [
      "['rwd' 'fwd' '4wd']\n",
      "              count      mean\n",
      "drive-wheels                 \n",
      "4wd               9 -0.056705\n",
      "fwd             120 -0.122935\n",
      "rwd              76  0.200822\n"
     ]
    }
   ],
   "source": [
    "print(auto_data.loc[:,\"drive-wheels\"].unique())\n",
    "auto_wheels = auto_data.groupby('drive-wheels')\n",
    "auto_wheelz = pd.DataFrame({'count': auto_wheels .size(), \n",
    "                       'mean': auto_wheels .aggregate(np.mean).loc[:, 'log price']})\n",
    "print(auto_wheelz.head())"
   ]
  },
  {
   "cell_type": "markdown",
   "metadata": {},
   "source": [
    "The 4 wheel drive number is small and was not requested, so I will only compare front wheel drive and rear wheel drive means."
   ]
  },
  {
   "cell_type": "code",
   "execution_count": 73,
   "metadata": {},
   "outputs": [
    {
     "data": {
      "image/png": "[encoded data removed]",
      "text/plain": [
       "<Figure size 432x288 with 2 Axes>"
      ]
     },
     "metadata": {},
     "output_type": "display_data"
    }
   ],
   "source": [
    "auto_data.loc[:,\"fwd\"] = auto_data.loc[:,\"drive-wheels\"].isin(['fwd']).astype(int)\n",
    "auto_data.loc[:,\"rwd\"] = auto_data.loc[:,\"drive-wheels\"].isin(['rwd']).astype(int)\n",
    "auto_rwd = auto_data.query('rwd == 1')\n",
    "auto_fwd = auto_data.query('fwd == 1')\n",
    "\n",
    "\n",
    "plot_pop(auto_rwd.loc[:,\"log price\"], auto_fwd.loc[:,\"log price\"],'histogram of log price of rear wheel drive (top) versus front wheel(bottom)')  "
   ]
  },
  {
   "cell_type": "markdown",
   "metadata": {},
   "source": [
    "The means look different, let's see if it is significant.\n",
    "\n"
   ]
  },
  {
   "cell_type": "code",
   "execution_count": 74,
   "metadata": {},
   "outputs": [
    {
     "name": "stdout",
     "output_type": "stream",
     "text": [
      "DegFreedom    1.258500e+02\n",
      "Difference   -3.237571e-01\n",
      "Statistic    -1.303811e+01\n",
      "PValue        2.577144e-28\n",
      "Low95CI      -3.763257e-01\n",
      "High95CI     -2.711885e-01\n",
      "dtype: float64\n"
     ]
    }
   ],
   "source": [
    "test = t_test(auto_fwd.loc[:,\"log price\"],auto_rwd.loc[:,\"log price\"], 0.05)\n",
    "print(test)"
   ]
  },
  {
   "cell_type": "markdown",
   "metadata": {},
   "source": [
    "The low and high 95% confidence levels do not include 0, and the p-value is very small, hence we can reject the NULL hypothesis that the means are the same.  The difference in log price is <b>significant for drive wheels</b>.\n",
    "\n",
    "\n",
    "Now let's look at the body styles and run the ANOVA. So .. how many body styles are there and what are they?"
   ]
  },
  {
   "cell_type": "code",
   "execution_count": 87,
   "metadata": {},
   "outputs": [
    {
     "name": "stdout",
     "output_type": "stream",
     "text": [
      "['convertible' 'hatchback' 'sedan' 'wagon' 'hardtop']\n",
      "['convertible' 'hatchback' 'sedan' 'wagon' 'hardtop']\n",
      "             count      mean\n",
      "body-style                  \n",
      "convertible      6  0.246351\n",
      "hardtop          8  0.202072\n",
      "hatchback       70 -0.098405\n",
      "sedan           96  0.039779\n",
      "wagon           25 -0.001003\n"
     ]
    }
   ],
   "source": [
    "print(auto_data.loc[:,\"body-style\"].unique())\n",
    "print(auto_data.loc[:,\"body-style\"].unique())\n",
    "auto_styles = auto_data.groupby('body-style')\n",
    "auto_stylez = pd.DataFrame({'count': auto_styles.size(), \n",
    "                       'mean': auto_styles.aggregate(np.mean).loc[:, 'log price']})\n",
    "print(auto_stylez.head())"
   ]
  },
  {
   "cell_type": "markdown",
   "metadata": {},
   "source": [
    "Let's look at the normed log of the price versus the body styles"
   ]
  },
  {
   "cell_type": "code",
   "execution_count": 83,
   "metadata": {},
   "outputs": [
    {
     "data": {
      "text/plain": [
       "<seaborn.axisgrid.FacetGrid at 0x104284e10>"
      ]
     },
     "execution_count": 83,
     "metadata": {},
     "output_type": "execute_result"
    },
    {
     "data": {
      "image/png": "[encoded data removed]",
      "text/plain": [
       "<Figure size 360x360 with 1 Axes>"
      ]
     },
     "metadata": {},
     "output_type": "display_data"
    }
   ],
   "source": [
    "sbn.catplot(x = 'body-style', y = 'log price', kind = 'swarm', data = auto_data)"
   ]
  },
  {
   "cell_type": "markdown",
   "metadata": {},
   "source": [
    "It looks like there is some significance in the body type.\n",
    "\n",
    "Let's run the ANOVA and see what we see."
   ]
  },
  {
   "cell_type": "code",
   "execution_count": 103,
   "metadata": {},
   "outputs": [
    {
     "name": "stdout",
     "output_type": "stream",
     "text": [
      "F statistic = 8.369083699184879\n",
      "P-value = 2.913987212650176e-06\n"
     ]
    }
   ],
   "source": [
    "auto_data.loc[:,\"convertible\"] = auto_data.loc[:,\"body-style\"].isin(['convertible']).astype(int)\n",
    "conv = auto_data.query('convertible == 1')\n",
    "convy = conv.loc[:,\"log price\"]\n",
    "auto_data.loc[:,\"hatchback\"] = auto_data.loc[:,\"body-style\"].isin(['hatchback']).astype(int)\n",
    "hatch = auto_data.query('hatchback == 1')\n",
    "hatchy = hatch.loc[:,\"log price\"]\n",
    "auto_data.loc[:,\"sedan\"] = auto_data.loc[:,\"body-style\"].isin(['sedan']).astype(int)\n",
    "sedan = auto_data.query('sedan == 1')\n",
    "sedany = sedan.loc[:,\"log price\"]\n",
    "auto_data.loc[:,\"wagon\"] = auto_data.loc[:,\"body-style\"].isin(['wagon']).astype(int)\n",
    "wagon = auto_data.query('wagon == 1')\n",
    "wagy = wagon.loc[:,\"log price\"]\n",
    "auto_data.loc[:,\"hardtop\"] = auto_data.loc[:,\"body-style\"].isin(['hardtop']).astype(int)\n",
    "hard = auto_data.query('hardtop == 1')\n",
    "hardy = hard.loc[:,\"log price\"]\n",
    "\n",
    "f_statistic, p_value = ss.f_oneway(convy, hatchy, sedany, wagy, hardy)\n",
    "print('F statistic = ' + str(f_statistic))\n",
    "print('P-value = ' + str(p_value))\n",
    "\n"
   ]
  },
  {
   "cell_type": "markdown",
   "metadata": {},
   "source": [
    "The F statistic is large, and the p-value is well below 0.05 - so we can reject the NULL hypothesis that the means of the log of the price does not vary by body type.\n",
    "\n",
    "\n",
    "Let's now do the Tukey HSD test and see what it says."
   ]
  },
  {
   "cell_type": "code",
   "execution_count": 160,
   "metadata": {},
   "outputs": [
    {
     "name": "stdout",
     "output_type": "stream",
     "text": [
      "Multiple Comparison of Means - Tukey HSD,FWER=0.05\n",
      "=============================================\n",
      "group1 group2 meandiff  lower   upper  reject\n",
      "---------------------------------------------\n",
      "  1      2    -0.3448  -0.5943 -0.0952  True \n",
      "  1      3    -0.2066  -0.4535  0.0403 False \n",
      "  1      4    -0.2474  -0.5141  0.0194 False \n",
      "  1      5    -0.0443  -0.3611  0.2726 False \n",
      "  2      3     0.1382   0.046   0.2304  True \n",
      "  2      4     0.0974  -0.0393  0.2341 False \n",
      "  2      5     0.3005   0.0815  0.5194  True \n",
      "  3      4    -0.0408  -0.1725  0.091  False \n",
      "  3      5     0.1623  -0.0536  0.3782 False \n",
      "  4      5     0.2031  -0.0352  0.4414 False \n",
      "---------------------------------------------\n"
     ]
    }
   ],
   "source": [
    "from statsmodels.stats.multicomp import pairwise_tukeyhsd\n",
    "deal1 = pd.DataFrame()\n",
    "one_data = np.zeros(shape=(len(convy),1)) + 1\n",
    "deal1.loc[:,\"val\"] = convy\n",
    "deal1.loc[:,\"group_num\"] = one_data.astype(int)\n",
    "two_data = np.zeros(shape=(len(hatchy),1)) + 2\n",
    "deal2 = pd.DataFrame()\n",
    "deal2.loc[:,'val'] = hatchy\n",
    "deal2.loc[:,\"group_num\"] = two_data.astype(int)\n",
    "deal = pd.DataFrame()\n",
    "deal = deal1\n",
    "deal = deal.append(deal2)\n",
    "three_data = np.zeros(shape=(len(sedany),1)) + 3\n",
    "deal3 = pd.DataFrame()\n",
    "deal3.loc[:,'val'] = sedany\n",
    "deal3.loc[:,\"group_num\"] = three_data.astype(int)\n",
    "deal = deal.append(deal3)\n",
    "four_data = np.zeros(shape=(len(wagy),1)) + 4\n",
    "deal4 = pd.DataFrame()\n",
    "deal4.loc[:,'val'] = wagy\n",
    "deal4.loc[:,\"group_num\"] = four_data.astype(int)\n",
    "deal = deal.append(deal4)\n",
    "five_data = np.zeros(shape=(len(hardy),1)) + 5\n",
    "deal5 = pd.DataFrame()\n",
    "deal5.loc[:,'val'] = hardy\n",
    "deal5.loc[:,\"group_num\"] = five_data.astype(int)\n",
    "deal = deal.append(deal5)\n",
    "\n",
    "Tukey_HSD = pairwise_tukeyhsd(deal.val, deal.group_num)\n",
    "print(Tukey_HSD)"
   ]
  },
  {
   "cell_type": "markdown",
   "metadata": {},
   "source": [
    "We can look at the table above say that the mean of the log of the price is significant for \n",
    "\n",
    "Convertibles(1) and Hatchbacks(2)\n",
    "Hatchbacks(2) and Sedans(3)\n",
    "Hatchbacks(2) and Hardtops(5)\n",
    "\n",
    "<b>We reject the NULL hypothesis for the above 3 pairs.</b>\n",
    "\n",
    "We cannot reject the NULL hypothesis for the other permutations of normed log price and body style.\n",
    "\n",
    "\n",
    "\n",
    "Now let's look at the rest of the data.l;.,\n",
    "\n",
    "\n",
    "If I understand question 4 and 5 correctly, we should explore the other relationships (not aspiration, fuel type, body style or drive wheels)\n",
    "\n",
    "They are 'symboling', 'make', 'num-of-doors', 'engine-location', 'wheel-base', 'length', 'width', 'height', 'curb-weight', 'engine-type', 'num-of-cylinders', 'engine-size', 'fuel-system', 'bore', 'stroke', 'compression-ratio', 'horsepower', 'peak-rpm', 'city-mpg', 'highway-mpg'.\n",
    "\n",
    "\n",
    "The category data is in symboling, make, number of doors, engine location, number of cylinders. The rest of the data types are essentially numeric.\n"
   ]
  },
  {
   "cell_type": "code",
   "execution_count": 163,
   "metadata": {},
   "outputs": [
    {
     "name": "stdout",
     "output_type": "stream",
     "text": [
      "[3, 1, 2, 0, -1, -2]\n"
     ]
    },
    {
     "data": {
      "text/plain": [
       "<seaborn.axisgrid.FacetGrid at 0x1a1947ca90>"
      ]
     },
     "execution_count": 163,
     "metadata": {},
     "output_type": "execute_result"
    },
    {
     "data": {
      "image/png": "[encoded data removed]",
      "text/plain": [
       "<Figure size 360x360 with 1 Axes>"
      ]
     },
     "metadata": {},
     "output_type": "display_data"
    }
   ],
   "source": [
    "print(list(auto_data.loc[:,\"symboling\"].unique()))\n",
    "sbn.catplot(x = 'symboling', y = 'log price', kind = 'swarm', data = auto_data)"
   ]
  },
  {
   "cell_type": "markdown",
   "metadata": {},
   "source": [
    "Let's look at the symboling and see what we can see from the ANOVA and TukeyHSD tests."
   ]
  },
  {
   "cell_type": "code",
   "execution_count": 164,
   "metadata": {},
   "outputs": [
    {
     "name": "stdout",
     "output_type": "stream",
     "text": [
      "F statistic = 8.620474072859201\n",
      "P-value = 1.5169091980234307e-07\n"
     ]
    }
   ],
   "source": [
    "auto_data.loc[:,\"neg2\"] = auto_data.loc[:,\"symboling\"].isin(['-2']).astype(int)\n",
    "neg2 = auto_data.query('neg2 == 1')\n",
    "neg2y = neg2.loc[:,\"log price\"]\n",
    "auto_data.loc[:,\"neg1\"] = auto_data.loc[:,\"symboling\"].isin(['-1']).astype(int)\n",
    "neg1 = auto_data.query('hatchback == 1')\n",
    "neg1y = neg1.loc[:,\"log price\"]\n",
    "auto_data.loc[:,\"zed\"] = auto_data.loc[:,\"symboling\"].isin(['0']).astype(int)\n",
    "zed = auto_data.query('zed == 1')\n",
    "zedy = sedan.loc[:,\"log price\"]\n",
    "auto_data.loc[:,\"pos1\"] = auto_data.loc[:,\"symboling\"].isin(['1']).astype(int)\n",
    "pos1 = auto_data.query('pos1 == 1')\n",
    "pos1y = wagon.loc[:,\"log price\"]\n",
    "auto_data.loc[:,\"pos2\"] = auto_data.loc[:,\"symboling\"].isin(['2']).astype(int)\n",
    "pos2 = auto_data.query('pos2 == 1')\n",
    "pos2y = pos2.loc[:,\"log price\"]\n",
    "auto_data.loc[:,\"pos3\"] = auto_data.loc[:,\"symboling\"].isin(['3']).astype(int)\n",
    "pos3 = auto_data.query('pos3 == 1')\n",
    "pos3y = pos3.loc[:,\"log price\"]\n",
    "\n",
    "f_statistic, p_value = ss.f_oneway(neg2y, neg1y, zedy, pos1y, pos2y, pos3y)\n",
    "print('F statistic = ' + str(f_statistic))\n",
    "print('P-value = ' + str(p_value))\n",
    "\n"
   ]
  },
  {
   "cell_type": "markdown",
   "metadata": {},
   "source": [
    "Looks like we can <b>reject the NULL hypothesis that there is no significance in the differences between the means associated with the symboling</b> (even if we don't know what that is).\n",
    "\n"
   ]
  },
  {
   "cell_type": "code",
   "execution_count": 180,
   "metadata": {},
   "outputs": [
    {
     "name": "stdout",
     "output_type": "stream",
     "text": [
      "Multiple Comparison of Means - Tukey HSD,FWER=0.05\n",
      "============================================\n",
      "group1 group2 meandiff  lower  upper  reject\n",
      "--------------------------------------------\n",
      "  1      2    -0.2374  -0.5752 0.1004 False \n",
      "  1      3    -0.0992  -0.4351 0.2367 False \n",
      "  1      4     -0.14   -0.4901  0.21  False \n",
      "  1      5    -0.2301  -0.5761 0.1158 False \n",
      "  1      6     0.0066  -0.3421 0.3553 False \n",
      "  2      3     0.1382   0.0481 0.2282  True \n",
      "  2      4     0.0974  -0.0361 0.2309 False \n",
      "  2      5     0.0073   -0.115 0.1295 False \n",
      "  2      6     0.244    0.1142 0.3738  True \n",
      "  3      4    -0.0408  -0.1694 0.0879 False \n",
      "  3      5    -0.1309  -0.2478 -0.014  True \n",
      "  3      6     0.1058   -0.019 0.2306 False \n",
      "  4      5    -0.0901   -0.243 0.0628 False \n",
      "  4      6     0.1466  -0.0124 0.3056 False \n",
      "  5      6     0.2367   0.087  0.3864  True \n",
      "--------------------------------------------\n"
     ]
    },
    {
     "data": {
      "image/png": "[encoded data removed]",
      "text/plain": [
       "<Figure size 720x432 with 1 Axes>"
      ]
     },
     "execution_count": 180,
     "metadata": {},
     "output_type": "execute_result"
    },
    {
     "data": {
      "image/png": "[encoded data removed]",
      "text/plain": [
       "<Figure size 720x432 with 1 Axes>"
      ]
     },
     "metadata": {},
     "output_type": "display_data"
    }
   ],
   "source": [
    "from statsmodels.stats.multicomp import pairwise_tukeyhsd\n",
    "deal1 = pd.DataFrame()\n",
    "one_data = np.zeros(shape=(len(neg2y),1)) + 1\n",
    "deal1.loc[:,\"val\"] = neg2y\n",
    "deal1.loc[:,\"group_num\"] = one_data.astype(int)\n",
    "two_data = np.zeros(shape=(len(neg1y),1)) + 2\n",
    "deal2 = pd.DataFrame()\n",
    "deal2.loc[:,'val'] = neg1y\n",
    "deal2.loc[:,\"group_num\"] = two_data.astype(int)\n",
    "deal = pd.DataFrame()\n",
    "deal = deal1\n",
    "deal = deal.append(deal2)\n",
    "three_data = np.zeros(shape=(len(zedy),1)) + 3\n",
    "deal3 = pd.DataFrame()\n",
    "deal3.loc[:,'val'] = zedy\n",
    "deal3.loc[:,\"group_num\"] = three_data.astype(int)\n",
    "deal = deal.append(deal3)\n",
    "four_data = np.zeros(shape=(len(pos1y),1)) + 4\n",
    "deal4 = pd.DataFrame()\n",
    "deal4.loc[:,'val'] = pos1y\n",
    "deal4.loc[:,\"group_num\"] = four_data.astype(int)\n",
    "deal = deal.append(deal4)\n",
    "five_data = np.zeros(shape=(len(pos2y),1)) + 5\n",
    "deal5 = pd.DataFrame()\n",
    "deal5.loc[:,'val'] = pos2y\n",
    "deal5.loc[:,\"group_num\"] = five_data.astype(int)\n",
    "deal = deal.append(deal5)\n",
    "five_data = np.zeros(shape=(len(pos3y),1)) + 6\n",
    "deal6 = pd.DataFrame()\n",
    "deal6.loc[:,'val'] = pos3y\n",
    "deal6.loc[:,\"group_num\"] = five_data.astype(int)\n",
    "deal = deal.append(deal6)\n",
    "\n",
    "Tukey_HSD = pairwise_tukeyhsd(deal.val, deal.group_num)\n",
    "\n",
    "print(Tukey_HSD)\n",
    "Tukey_HSD.plot_simultaneous()"
   ]
  },
  {
   "cell_type": "markdown",
   "metadata": {},
   "source": [
    "Looking at the above, we can reject the null hypothesis for\n",
    "\n",
    "<b>symbol -1 and symbol 0<br>\n",
    "symbol -1 and symbol 3<br>\n",
    "symbol 0 and symbol 2<br>\n",
    "symbol 2 and symbol 3</b><br>\n",
    "\n",
    "The rest of the permutations we will not reject the NULL hypothesis.\n",
    "\n",
    "\n",
    "Now we will look at the data on makes"
   ]
  },
  {
   "cell_type": "code",
   "execution_count": 210,
   "metadata": {},
   "outputs": [
    {
     "name": "stdout",
     "output_type": "stream",
     "text": [
      "               count      mean\n",
      "make                          \n",
      "alfa-romero        3  0.133450\n",
      "audi               7  0.174872\n",
      "bmw                8  0.350273\n",
      "chevrolet          3 -0.301296\n",
      "dodge              9 -0.188556\n",
      "honda             13 -0.169460\n",
      "isuzu              4 -0.034562\n",
      "jaguar             3  0.502852\n",
      "mazda             17 -0.065852\n",
      "mercedes-benz      8  0.482746\n",
      "mercury            1  0.164234\n",
      "mitsubishi        13 -0.123051\n",
      "nissan            18 -0.082196\n",
      "peugot            11  0.130549\n",
      "plymouth           7 -0.185161\n",
      "porsche            5  0.372767\n",
      "renault            2 -0.084438\n",
      "saab               6  0.120341\n",
      "subaru            12 -0.148760\n",
      "toyota            32 -0.091254\n",
      "volkswagen        12 -0.071148\n",
      "volvo             11  0.198318\n"
     ]
    }
   ],
   "source": [
    "makes = auto_data.groupby('make')\n",
    "auto_makes = pd.DataFrame({'count': makes.size(), \n",
    "                       'mean': makes.aggregate(np.mean).loc[:, 'log price']})\n",
    "print(auto_makes)"
   ]
  },
  {
   "cell_type": "code",
   "execution_count": 190,
   "metadata": {},
   "outputs": [
    {
     "data": {
      "text/plain": [
       "[Text(0, 0, 'alfa-romero'),\n",
       " Text(0, 0, 'audi'),\n",
       " Text(0, 0, 'bmw'),\n",
       " Text(0, 0, 'chevrolet'),\n",
       " Text(0, 0, 'dodge'),\n",
       " Text(0, 0, 'honda'),\n",
       " Text(0, 0, 'isuzu'),\n",
       " Text(0, 0, 'jaguar'),\n",
       " Text(0, 0, 'mazda'),\n",
       " Text(0, 0, 'mercedes-benz'),\n",
       " Text(0, 0, 'mercury'),\n",
       " Text(0, 0, 'mitsubishi'),\n",
       " Text(0, 0, 'nissan'),\n",
       " Text(0, 0, 'peugot'),\n",
       " Text(0, 0, 'plymouth'),\n",
       " Text(0, 0, 'porsche'),\n",
       " Text(0, 0, 'renault'),\n",
       " Text(0, 0, 'saab'),\n",
       " Text(0, 0, 'subaru'),\n",
       " Text(0, 0, 'toyota'),\n",
       " Text(0, 0, 'volkswagen'),\n",
       " Text(0, 0, 'volvo')]"
      ]
     },
     "execution_count": 190,
     "metadata": {},
     "output_type": "execute_result"
    },
    {
     "data": {
      "image/png": "[encoded data removed]",
      "text/plain": [
       "<Figure size 1440x864 with 1 Axes>"
      ]
     },
     "metadata": {},
     "output_type": "display_data"
    }
   ],
   "source": [
    "ax1 = plt.figure(figsize=(20, 12)).gca()\n",
    "g = sbn.boxplot(x = 'make', y = 'log price', data = auto_data, ax = ax1)\n",
    "##, labels = plt.xticks()\n",
    "##plt.setp(labels, rotation=45)\n",
    "g.set_xticklabels(labels, rotation=45, ha = 'right')"
   ]
  },
  {
   "cell_type": "markdown",
   "metadata": {},
   "source": [
    "<b>It's clear that there is a normed log price difference between makers.</b> \n",
    "\n",
    "\n",
    "I will continue with the ANOVA and Tukey analysis, using only makes with 9 or more counts.\n",
    "\n",
    "\n",
    "\n"
   ]
  },
  {
   "cell_type": "code",
   "execution_count": 225,
   "metadata": {},
   "outputs": [
    {
     "name": "stdout",
     "output_type": "stream",
     "text": [
      "F statistic = 10.12831218589234\n",
      "P-value = 7.142728997632686e-12\n"
     ]
    }
   ],
   "source": [
    "auto_data.loc[:,\"dodge\"] = auto_data.loc[:,\"make\"].isin(['dodge']).astype(int)\n",
    "dodge = auto_data.query('dodge == 1')\n",
    "dodgey = dodge.loc[:,\"log price\"]\n",
    "auto_data.loc[:,\"honda\"] = auto_data.loc[:,\"make\"].isin(['honda']).astype(int)\n",
    "honda = auto_data.query('honda == 1')\n",
    "honday = honda.loc[:,\"log price\"]\n",
    "auto_data.loc[:,\"mazda\"] = auto_data.loc[:,\"make\"].isin(['mazda']).astype(int)\n",
    "mazda = auto_data.query('mazda == 1')\n",
    "mazday = mazda.loc[:,\"log price\"]\n",
    "auto_data.loc[:,\"mits\"] = auto_data.loc[:,\"make\"].isin(['mitsubishi']).astype(int)\n",
    "mits = auto_data.query('mits == 1')\n",
    "mitsy = mits.loc[:,\"log price\"]\n",
    "auto_data.loc[:,\"nissan\"] = auto_data.loc[:,\"make\"].isin(['nissan']).astype(int)\n",
    "nissan = auto_data.query('nissan == 1')\n",
    "nissany = nissan.loc[:,\"log price\"]\n",
    "auto_data.loc[:,\"peugot\"] = auto_data.loc[:,\"make\"].isin(['peugot']).astype(int)\n",
    "peugot = auto_data.query('peugot == 1')\n",
    "peugoty = peugot.loc[:,\"log price\"]\n",
    "auto_data.loc[:,\"subaru\"] = auto_data.loc[:,\"make\"].isin(['subaru']).astype(int)\n",
    "subaru = auto_data.query('subaru == 1')\n",
    "subaruy = subaru.loc[:,\"log price\"]\n",
    "auto_data.loc[:,\"toyota\"] = auto_data.loc[:,\"make\"].isin(['toyota']).astype(int)\n",
    "toyota = auto_data.query('toyota == 1')\n",
    "toyotay = toyota.loc[:,\"log price\"]\n",
    "auto_data.loc[:,\"volks\"] = auto_data.loc[:,\"make\"].isin(['volkswagen']).astype(int)\n",
    "volks = auto_data.query('volks == 1')\n",
    "volksy = volks.loc[:,\"log price\"]\n",
    "auto_data.loc[:,\"volvo\"] = auto_data.loc[:,\"make\"].isin(['volvo']).astype(int)\n",
    "volvo = auto_data.query('volvo == 1')\n",
    "volvoy = volvo.loc[:,\"log price\"]\n",
    "\n",
    "f_statistic, p_value = ss.f_oneway(dodgey, honday, mazday, mitsy, nissany, peugoty, subaruy, toyotay, volksy, volvoy)\n",
    "print('F statistic = ' + str(f_statistic))\n",
    "print('P-value = ' + str(p_value))\n",
    "\n",
    "\n"
   ]
  },
  {
   "cell_type": "markdown",
   "metadata": {},
   "source": [
    "We see that we have a small p-value - <b>so we can reject the NULL hypothesis that there is no signficant difference in the means of the normed log price by make.</b>\n",
    "\n",
    "Let's perform the TukeyHS test and see for which pairs in particular we can reject the NULL hypothesis"
   ]
  },
  {
   "cell_type": "code",
   "execution_count": 227,
   "metadata": {},
   "outputs": [
    {
     "name": "stdout",
     "output_type": "stream",
     "text": [
      "Multiple Comparison of Means - Tukey HSD,FWER=0.05\n",
      "=============================================\n",
      "group1 group2 meandiff  lower   upper  reject\n",
      "---------------------------------------------\n",
      "  1      2     0.1036  -0.0524  0.2596 False \n",
      "  1      3     0.0464  -0.1196  0.2125 False \n",
      "  1      4     0.0873  -0.0668  0.2414 False \n",
      "  1      5      0.3     0.1266  0.4734  True \n",
      "  1      6     0.0207  -0.1488  0.1902 False \n",
      "  1      7     0.0782   -0.061  0.2174 False \n",
      "  1      8     0.0983  -0.0712  0.2678 False \n",
      "  1      9     0.3678   0.1943  0.5412  True \n",
      "  2      3    -0.0572  -0.2132  0.0988 False \n",
      "  2      4    -0.0163  -0.1595  0.1268 False \n",
      "  2      5     0.1964   0.0326  0.3602  True \n",
      "  2      6    -0.0829  -0.2425  0.0767 False \n",
      "  2      7    -0.0254  -0.1525  0.1017 False \n",
      "  2      8    -0.0053  -0.1649  0.1543 False \n",
      "  2      9     0.2642   0.1003  0.428   True \n",
      "  3      4     0.0409  -0.1132  0.1949 False \n",
      "  3      5     0.2536   0.0802  0.427   True \n",
      "  3      6    -0.0257  -0.1952  0.1438 False \n",
      "  3      7     0.0318  -0.1074  0.171  False \n",
      "  3      8     0.0519  -0.1176  0.2214 False \n",
      "  3      9     0.3214   0.1479  0.4948  True \n",
      "  4      5     0.2127   0.0507  0.3748  True \n",
      "  4      6    -0.0666  -0.2243  0.0912 False \n",
      "  4      7    -0.0091  -0.1338  0.1157 False \n",
      "  4      8     0.011   -0.1467  0.1688 False \n",
      "  4      9     0.2805   0.1185  0.4425  True \n",
      "  5      6    -0.2793   -0.456 -0.1026  True \n",
      "  5      7    -0.2218  -0.3698 -0.0738  True \n",
      "  5      8    -0.2017  -0.3784  -0.025  True \n",
      "  5      9     0.0678  -0.1128  0.2483 False \n",
      "  6      7     0.0575  -0.0858  0.2008 False \n",
      "  6      8     0.0776  -0.0952  0.2505 False \n",
      "  6      9     0.3471   0.1704  0.5238  True \n",
      "  7      8     0.0201  -0.1232  0.1634 False \n",
      "  7      9     0.2896   0.1416  0.4375  True \n",
      "  8      9     0.2695   0.0927  0.4462  True \n",
      "---------------------------------------------\n"
     ]
    },
    {
     "data": {
      "image/png": "[encoded data removed]",
      "text/plain": [
       "<Figure size 720x432 with 1 Axes>"
      ]
     },
     "execution_count": 227,
     "metadata": {},
     "output_type": "execute_result"
    },
    {
     "data": {
      "image/png": "[encoded data removed]",
      "text/plain": [
       "<Figure size 720x432 with 1 Axes>"
      ]
     },
     "metadata": {},
     "output_type": "display_data"
    }
   ],
   "source": [
    "deal1 = pd.DataFrame()\n",
    "one_data = np.zeros(shape=(len(honday),1)) + 1\n",
    "deal1.loc[:,\"val\"] = honday\n",
    "deal1.loc[:,\"group_num\"] = one_data.astype(int)\n",
    "two_data = np.zeros(shape=(len(mazday),1)) + 2\n",
    "deal2 = pd.DataFrame()\n",
    "deal2.loc[:,'val'] = mazday\n",
    "deal2.loc[:,\"group_num\"] = two_data.astype(int)\n",
    "deal = pd.DataFrame()\n",
    "deal = deal1\n",
    "deal = deal.append(deal2)\n",
    "three_data = np.zeros(shape=(len(mitsy),1)) + 3\n",
    "deal3 = pd.DataFrame()\n",
    "deal3.loc[:,'val'] = mitsy\n",
    "deal3.loc[:,\"group_num\"] = three_data.astype(int)\n",
    "deal = deal.append(deal3)\n",
    "four_data = np.zeros(shape=(len(nissany),1)) + 4\n",
    "deal4 = pd.DataFrame()\n",
    "deal4.loc[:,'val'] = nissany\n",
    "deal4.loc[:,\"group_num\"] = four_data.astype(int)\n",
    "deal = deal.append(deal4)\n",
    "five_data = np.zeros(shape=(len(peugoty),1)) + 5\n",
    "deal5 = pd.DataFrame()\n",
    "deal5.loc[:,'val'] = peugoty\n",
    "deal5.loc[:,\"group_num\"] = five_data.astype(int)\n",
    "deal = deal.append(deal5)\n",
    "five_data = np.zeros(shape=(len(subaruy),1)) + 6\n",
    "deal6 = pd.DataFrame()\n",
    "deal6.loc[:,'val'] = subaruy\n",
    "deal6.loc[:,\"group_num\"] = five_data.astype(int)\n",
    "deal = deal.append(deal6)\n",
    "six_data = np.zeros(shape=(len(toyotay),1)) + 7\n",
    "deal7 = pd.DataFrame()\n",
    "deal7.loc[:,'val'] = toyotay\n",
    "deal7.loc[:,\"group_num\"] = six_data.astype(int)\n",
    "deal = deal.append(deal7)\n",
    "seven_data = np.zeros(shape=(len(volksy),1)) + 8\n",
    "deal8 = pd.DataFrame()\n",
    "deal8.loc[:,'val'] = volksy\n",
    "deal8.loc[:,\"group_num\"] = seven_data.astype(int)\n",
    "deal = deal.append(deal8)\n",
    "eight_data = np.zeros(shape=(len(volvoy),1)) + 9\n",
    "deal8 = pd.DataFrame()\n",
    "deal8.loc[:,'val'] = volvoy\n",
    "deal8.loc[:,\"group_num\"] = eight_data.astype(int)\n",
    "deal = deal.append(deal8)\n",
    "\n",
    "Tukey_HSD = pairwise_tukeyhsd(deal.val, deal.group_num)\n",
    "\n",
    "print(Tukey_HSD)\n",
    "Tukey_HSD.plot_simultaneous()"
   ]
  },
  {
   "cell_type": "markdown",
   "metadata": {},
   "source": [
    "We can reject the NULL Hypothesis for the make versus normed log price for the following\n",
    "\n",
    "<b>Honda versus Peugot<br>\n",
    "    Honda versus Volvo<br>\n",
    "    Mazda versus Peugot<br>\n",
    "    Mazda versus Volvo<br>\n",
    "    Mitsubishi versus Peugot<br>\n",
    "    Mitsubishi versus Volvo<br>\n",
    "    Nissan versus Peugot<br>\n",
    "    Nissan versus Volvo<br>\n",
    "    Peugot versus Subaru<br>\n",
    "    Peugot versus Toyota<br>\n",
    "    Peugot versus Volkswagen<br>\n",
    "    Subaru versus Volvo<br>\n",
    "    Toyota versus Volvo<br>\n",
    "    Volkswagen versus Volvo<br></b>\n",
    "    \n",
    "We cannot reject the null hypothesis for the other permutations.\n",
    "\n",
    "\n",
    "\n",
    "Let's look at number of doors and see if there's a relationship between that and the normed log of the price."
   ]
  },
  {
   "cell_type": "code",
   "execution_count": 193,
   "metadata": {},
   "outputs": [
    {
     "name": "stdout",
     "output_type": "stream",
     "text": [
      "              count      mean\n",
      "num-of-doors                 \n",
      "?                 2 -0.083420\n",
      "four            114  0.020503\n",
      "two              89 -0.024388\n"
     ]
    }
   ],
   "source": [
    "doors = auto_data.groupby('num-of-doors')\n",
    "auto_doors = pd.DataFrame({'count': doors.size(), \n",
    "                       'mean': doors.aggregate(np.mean).loc[:, 'log price']})\n",
    "print(auto_doors.head())"
   ]
  },
  {
   "cell_type": "markdown",
   "metadata": {},
   "source": [
    "Let's look at the graphs of the four doors versus two doors"
   ]
  },
  {
   "cell_type": "code",
   "execution_count": 206,
   "metadata": {},
   "outputs": [
    {
     "data": {
      "text/plain": [
       "<matplotlib.axes._subplots.AxesSubplot at 0x1a19d1f6a0>"
      ]
     },
     "execution_count": 206,
     "metadata": {},
     "output_type": "execute_result"
    },
    {
     "data": {
      "image/png": "[encoded data removed]",
      "text/plain": [
       "<Figure size 1440x864 with 1 Axes>"
      ]
     },
     "metadata": {},
     "output_type": "display_data"
    }
   ],
   "source": [
    "ax1 = plt.figure(figsize=(20, 12)).gca()\n",
    "trippy = auto_data.loc[auto_data['num-of-doors'] != '?']\n",
    "sbn.boxplot(x = 'num-of-doors', y = 'log price', data = trippy, ax = ax1)\n"
   ]
  },
  {
   "cell_type": "markdown",
   "metadata": {},
   "source": [
    "Let's see if the difference is statistically significant"
   ]
  },
  {
   "cell_type": "code",
   "execution_count": 217,
   "metadata": {},
   "outputs": [
    {
     "name": "stdout",
     "output_type": "stream",
     "text": [
      "DegFreedom    175.433573\n",
      "Difference     -0.044891\n",
      "Statistic      -1.389585\n",
      "PValue          0.166192\n",
      "Low95CI        -0.109728\n",
      "High95CI        0.019945\n",
      "dtype: float64\n"
     ]
    }
   ],
   "source": [
    "auto_data.loc[:,\"twodoor\"] = auto_data.loc[:,\"num-of-doors\"].isin(['two']).astype(int)\n",
    "door2 = auto_data.query('twodoor == 1')\n",
    "door2y = door2.loc[:,\"log price\"]\n",
    "auto_data.loc[:,\"fourdoor\"] = auto_data.loc[:,\"num-of-doors\"].isin(['four']).astype(int)\n",
    "fourdoor = auto_data.query('fourdoor == 1')\n",
    "fourdoory = fourdoor.loc[:,\"log price\"]\n",
    "test = t_test(door2y,fourdoory, 0.05)\n",
    "print(test)"
   ]
  },
  {
   "cell_type": "markdown",
   "metadata": {},
   "source": [
    "As can be seen, the difference in means is not statistically significant, <b>so we cannot reject the NULL hypothesis that the difference in means of normed log price is not significant between two door and four door autos.</b>\n",
    "\n",
    "Now let's look at engine location"
   ]
  },
  {
   "cell_type": "code",
   "execution_count": 218,
   "metadata": {},
   "outputs": [
    {
     "name": "stdout",
     "output_type": "stream",
     "text": [
      "                 count      mean\n",
      "engine-location                 \n",
      "front              202 -0.007452\n",
      "rear                 3  0.501780\n"
     ]
    }
   ],
   "source": [
    "eng_loc = auto_data.groupby('engine-location')\n",
    "eng_locz = pd.DataFrame({'count': eng_loc.size(), \n",
    "                       'mean': eng_loc.aggregate(np.mean).loc[:, 'log price']})\n",
    "print(eng_locz.head())"
   ]
  },
  {
   "cell_type": "markdown",
   "metadata": {},
   "source": [
    "There really isn't enough data to make a comparison between fron and rear engine locations\n",
    "\n",
    "Let's look at number of cylinders and see what's there."
   ]
  },
  {
   "cell_type": "code",
   "execution_count": 219,
   "metadata": {},
   "outputs": [
    {
     "name": "stdout",
     "output_type": "stream",
     "text": [
      "                  count      mean\n",
      "num-of-cylinders                 \n",
      "eight                 5  0.455597\n",
      "five                 11  0.258929\n",
      "four                159 -0.079771\n",
      "six                  24  0.299989\n",
      "three                 1 -0.369199\n"
     ]
    }
   ],
   "source": [
    "cyls = auto_data.groupby('num-of-cylinders')\n",
    "cylz = pd.DataFrame({'count': cyls.size(), \n",
    "                       'mean': cyls.aggregate(np.mean).loc[:, 'log price']})\n",
    "print(cylz.head())"
   ]
  },
  {
   "cell_type": "markdown",
   "metadata": {},
   "source": [
    "I will exclude the eight and three cylinder vehicles and work on the others. Let's take a look at the box plot"
   ]
  },
  {
   "cell_type": "code",
   "execution_count": 222,
   "metadata": {},
   "outputs": [
    {
     "data": {
      "text/plain": [
       "<matplotlib.axes._subplots.AxesSubplot at 0x1a19a13a90>"
      ]
     },
     "execution_count": 222,
     "metadata": {},
     "output_type": "execute_result"
    },
    {
     "data": {
      "image/png": "[encoded data removed]",
      "text/plain": [
       "<Figure size 1440x864 with 1 Axes>"
      ]
     },
     "metadata": {},
     "output_type": "display_data"
    }
   ],
   "source": [
    "ax1 = plt.figure(figsize=(20, 12)).gca()\n",
    "auto_data.loc[:,\"keepcyl\"] = auto_data.loc[:,\"num-of-cylinders\"].isin(['five', 'four', 'six']).astype(int)\n",
    "trappy = auto_data.query('keepcyl == 1')\n",
    "sbn.boxplot(x = 'num-of-cylinders', y = 'log price', data = trappy, ax = ax1)"
   ]
  },
  {
   "cell_type": "markdown",
   "metadata": {},
   "source": [
    "I'm thinking <b>there's a significant difference in the means of the normed log price versus number of cylinders</b>. \n",
    "\n",
    "Let's first do the ANOVA."
   ]
  },
  {
   "cell_type": "code",
   "execution_count": 223,
   "metadata": {},
   "outputs": [
    {
     "name": "stdout",
     "output_type": "stream",
     "text": [
      "F statistic = 73.70436017723559\n",
      "P-value = 1.8924262176639427e-24\n"
     ]
    }
   ],
   "source": [
    "auto_data.loc[:,\"fourcyl\"] = auto_data.loc[:,\"num-of-cylinders\"].isin(['four']).astype(int)\n",
    "four = auto_data.query('fourcyl == 1')\n",
    "foury = four.loc[:,\"log price\"]\n",
    "auto_data.loc[:,\"fivecyl\"] = auto_data.loc[:,\"num-of-cylinders\"].isin(['five']).astype(int)\n",
    "five  = auto_data.query('fivecyl == 1')\n",
    "fivey = five.loc[:,\"log price\"]\n",
    "auto_data.loc[:,\"sixcyl\"] = auto_data.loc[:,\"num-of-cylinders\"].isin(['six']).astype(int)\n",
    "six = auto_data.query('sixcyl == 1')\n",
    "sixy = six.loc[:,\"log price\"]\n",
    "\n",
    "\n",
    "f_statistic, p_value = ss.f_oneway(foury, fivey, sixy)\n",
    "print('F statistic = ' + str(f_statistic))\n",
    "print('P-value = ' + str(p_value))\n",
    "\n"
   ]
  },
  {
   "cell_type": "markdown",
   "metadata": {},
   "source": [
    "Looks like there is a very low p-value. <b>We can reject the NULL hypothesis regarding number of cylinders and normed log price.</b>\n",
    "\n",
    "Let's do the TukeyHS"
   ]
  },
  {
   "cell_type": "code",
   "execution_count": 224,
   "metadata": {},
   "outputs": [
    {
     "name": "stdout",
     "output_type": "stream",
     "text": [
      "Multiple Comparison of Means - Tukey HSD,FWER=0.05\n",
      "============================================\n",
      "group1 group2 meandiff  lower  upper  reject\n",
      "--------------------------------------------\n",
      "  1      2     0.3387   0.2193 0.4581  True \n",
      "  1      3     0.3798   0.2959 0.4636  True \n",
      "  2      3     0.0411  -0.0984 0.1805 False \n",
      "--------------------------------------------\n"
     ]
    },
    {
     "data": {
      "image/png": "[encoded data removed]",
      "text/plain": [
       "<Figure size 720x432 with 1 Axes>"
      ]
     },
     "execution_count": 224,
     "metadata": {},
     "output_type": "execute_result"
    },
    {
     "data": {
      "image/png": "[encoded data removed]",
      "text/plain": [
       "<Figure size 720x432 with 1 Axes>"
      ]
     },
     "metadata": {},
     "output_type": "display_data"
    }
   ],
   "source": [
    "deal1 = pd.DataFrame()\n",
    "one_data = np.zeros(shape=(len(foury),1)) + 1\n",
    "deal1.loc[:,\"val\"] = foury\n",
    "deal1.loc[:,\"group_num\"] = one_data.astype(int)\n",
    "two_data = np.zeros(shape=(len(fivey),1)) + 2\n",
    "deal2 = pd.DataFrame()\n",
    "deal2.loc[:,'val'] = fivey\n",
    "deal2.loc[:,\"group_num\"] = two_data.astype(int)\n",
    "deal = pd.DataFrame()\n",
    "deal = deal1\n",
    "deal = deal.append(deal2)\n",
    "three_data = np.zeros(shape=(len(sixy),1)) + 3\n",
    "deal3 = pd.DataFrame()\n",
    "deal3.loc[:,'val'] = sixy\n",
    "deal3.loc[:,\"group_num\"] = three_data.astype(int)\n",
    "deal = deal.append(deal3)\n",
    "\n",
    "\n",
    "Tukey_HSD = pairwise_tukeyhsd(deal.val, deal.group_num)\n",
    "\n",
    "print(Tukey_HSD)\n",
    "Tukey_HSD.plot_simultaneous()"
   ]
  },
  {
   "cell_type": "markdown",
   "metadata": {},
   "source": [
    "We can reject the NULL hypothesis for \n",
    "\n",
    "<b>four cylinders versus five cylinders in mean normed log price<br>\n",
    "four cylinders versus six cylinders in mean novmed log price</b><br>\n",
    "\n",
    "But we cannot reject the NULL hypothesis for five cylinders versus six cylinders\n",
    "\n",
    "\n"
   ]
  },
  {
   "cell_type": "code",
   "execution_count": null,
   "metadata": {},
   "outputs": [],
   "source": []
  }
 ],
 "metadata": {
  "kernelspec": {
   "display_name": "Python 3",
   "language": "python",
   "name": "python3"
  },
  "language_info": {
   "codemirror_mode": {
    "name": "ipython",
    "version": 3
   },
   "file_extension": ".py",
   "mimetype": "text/x-python",
   "name": "python",
   "nbconvert_exporter": "python",
   "pygments_lexer": "ipython3",
   "version": "3.6.6"
  }
 },
 "nbformat": 4,
 "nbformat_minor": 2
}
