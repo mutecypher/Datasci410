{
 "cells": [
  {
   "cell_type": "markdown",
   "metadata": {},
   "source": [
    "\n",
    "## Lesson 3 Assignment - Monty Hall Simulation\n",
    "\n",
    "Author - Mike Pearson\n",
    "\n",
    "We will play a bit with goats and cars, and then get into the real simulation."
   ]
  },
  {
   "cell_type": "code",
   "execution_count": 186,
   "metadata": {},
   "outputs": [
    {
     "name": "stdout",
     "output_type": "stream",
     "text": [
      "6\n"
     ]
    },
    {
     "data": {
      "text/html": [
       "<div>\n",
       "<style scoped>\n",
       "    .dataframe tbody tr th:only-of-type {\n",
       "        vertical-align: middle;\n",
       "    }\n",
       "\n",
       "    .dataframe tbody tr th {\n",
       "        vertical-align: top;\n",
       "    }\n",
       "\n",
       "    .dataframe thead th {\n",
       "        text-align: right;\n",
       "    }\n",
       "</style>\n",
       "<table border=\"1\" class=\"dataframe\">\n",
       "  <thead>\n",
       "    <tr style=\"text-align: right;\">\n",
       "      <th></th>\n",
       "      <th>door1</th>\n",
       "      <th>door2</th>\n",
       "      <th>door3</th>\n",
       "    </tr>\n",
       "  </thead>\n",
       "  <tbody>\n",
       "    <tr>\n",
       "      <th>0</th>\n",
       "      <td>goat</td>\n",
       "      <td>goat</td>\n",
       "      <td>car</td>\n",
       "    </tr>\n",
       "    <tr>\n",
       "      <th>1</th>\n",
       "      <td>goat</td>\n",
       "      <td>car</td>\n",
       "      <td>goat</td>\n",
       "    </tr>\n",
       "    <tr>\n",
       "      <th>2</th>\n",
       "      <td>goat</td>\n",
       "      <td>goat</td>\n",
       "      <td>car</td>\n",
       "    </tr>\n",
       "    <tr>\n",
       "      <th>3</th>\n",
       "      <td>goat</td>\n",
       "      <td>car</td>\n",
       "      <td>goat</td>\n",
       "    </tr>\n",
       "    <tr>\n",
       "      <th>4</th>\n",
       "      <td>car</td>\n",
       "      <td>goat</td>\n",
       "      <td>goat</td>\n",
       "    </tr>\n",
       "    <tr>\n",
       "      <th>5</th>\n",
       "      <td>car</td>\n",
       "      <td>goat</td>\n",
       "      <td>goat</td>\n",
       "    </tr>\n",
       "  </tbody>\n",
       "</table>\n",
       "</div>"
      ],
      "text/plain": [
       "  door1 door2 door3\n",
       "0  goat  goat   car\n",
       "1  goat   car  goat\n",
       "2  goat  goat   car\n",
       "3  goat   car  goat\n",
       "4   car  goat  goat\n",
       "5   car  goat  goat"
      ]
     },
     "execution_count": 186,
     "metadata": {},
     "output_type": "execute_result"
    }
   ],
   "source": [
    "# Import libraries\n",
    "import numpy as np\n",
    "import itertools\n",
    "import pandas as pd\n",
    "from matplotlib import pyplot\n",
    "\n",
    "goat1 = 'goat'\n",
    "goat2 = 'goat'\n",
    "car = 'car'\n",
    "\n",
    "\n",
    "doors = pd.DataFrame(\n",
    "    list(itertools.permutations(['goat', 'goat', 'car'],3)), \n",
    "    columns=['door1', 'door2', 'door3'])\n",
    "print(len(doors))\n",
    "doors.head(20)"
   ]
  },
  {
   "cell_type": "markdown",
   "metadata": {},
   "source": [
    "Let's see what we have"
   ]
  },
  {
   "cell_type": "code",
   "execution_count": 187,
   "metadata": {},
   "outputs": [
    {
     "data": {
      "text/plain": [
       "[('Car behind Door1', 0.334),\n",
       " ('car behind Door2', 0.318),\n",
       " ('car behind Door3', 0.348)]"
      ]
     },
     "execution_count": 187,
     "metadata": {},
     "output_type": "execute_result"
    }
   ],
   "source": [
    "pGoattry1 = 2/3\n",
    "pCartry1 = 1/3\n",
    "def sim_car(num_samples):\n",
    "  car_probas = [\n",
    "      1/3,  # goat\n",
    "      1/3,  # car\n",
    "      1/3,\n",
    "  ]\n",
    "  \n",
    "  return list(zip(\n",
    "      ['Car behind Door1', 'car behind Door2', 'car behind Door3'], \n",
    "      np.random.multinomial(num_samples, car_probas)/num_samples))\n",
    "  \n",
    "sim_car(1000)"
   ]
  },
  {
   "cell_type": "markdown",
   "metadata": {},
   "source": [
    "## What if?\n",
    "\n",
    "If you choose door x, what is probability that you will win the car if you do not switch?\n",
    "\n",
    "Clearly that is just the probability that the car is behind the door.\n",
    "\n",
    "What if you switch doors?\n",
    "\n",
    "If you choose door 1 and Monte opens door 2."
   ]
  },
  {
   "cell_type": "markdown",
   "metadata": {},
   "source": [
    "## Two ways of choosing\n",
    "\n",
    "Let the player make a single choice and never change. What is the percentage of correct guesses?\n",
    "\n",
    "Let the player make a choice, then switch the choice to the other door - when a door with a goat behind it is chosen.\n",
    "\n",
    "\"stay_choice\" is the probability of winning the car if you stay with your first choice"
   ]
  },
  {
   "cell_type": "code",
   "execution_count": 188,
   "metadata": {},
   "outputs": [],
   "source": [
    "def stay_choice(tries):\n",
    "    door = [1, 2, 3]\n",
    "    i = 1\n",
    "    correct = 0\n",
    "    wrong = 0\n",
    "    while i <= tries:\n",
    "        car = np.random.choice(door, 1)\n",
    "        door_chosen = np.random.choice(door, 1)\n",
    "        if car == door_chosen:\n",
    "              correct += 1\n",
    "        else :\n",
    "            wrong += 1\n",
    "        i += 1\n",
    "    return(correct/tries)"
   ]
  },
  {
   "cell_type": "markdown",
   "metadata": {},
   "source": [
    "\n",
    "## The other method...\n",
    "\n",
    "\"change_choice\" calculates the probability of winning if you switch automatically. Essentially, the only time you will lose is when you chose the correct door on your first guess.\n"
   ]
  },
  {
   "cell_type": "code",
   "execution_count": 189,
   "metadata": {},
   "outputs": [],
   "source": [
    "def change_choice(tries):\n",
    "        door = [1, 2, 3]\n",
    "        i = 1\n",
    "        correct = 0\n",
    "        wrong = 0\n",
    "        while i <= tries:\n",
    "            car = np.random.choice(door, 1)\n",
    "            door_chosen = np.random.choice(door, 1)\n",
    "            if car == door_chosen:\n",
    "                wrong += 1\n",
    "            else:\n",
    "                correct += 1\n",
    "            i += 1\n",
    "        return(correct/tries)"
   ]
  },
  {
   "cell_type": "code",
   "execution_count": 190,
   "metadata": {},
   "outputs": [
    {
     "name": "stdout",
     "output_type": "stream",
     "text": [
      "probability of winning when you stay par 0.36\n",
      "probability of winning when you stay par 0.62\n"
     ]
    }
   ],
   "source": [
    "tries = 100\n",
    "print('probability of winning when you stay par', stay_choice(tries))\n",
    "print('probability of winning when you stay par', change_choice(tries))\n"
   ]
  },
  {
   "cell_type": "markdown",
   "metadata": {},
   "source": [
    "We will run that simulation a thousand times and see what the probabilites of each are, and make a histogram"
   ]
  },
  {
   "cell_type": "code",
   "execution_count": 191,
   "metadata": {},
   "outputs": [],
   "source": [
    "def keep_sim(tries, trials):\n",
    "    keep_results = pd.Series(stay_choice(tries))\n",
    "    i = 1\n",
    "    while i <= trials:\n",
    "        keep_results[i]= stay_choice(tries)\n",
    "        i += 1\n",
    "    pyplot.hist(keep_results.values)\n",
    "    return(print('the mean probability of winning with the first choice is', np.mean(keep_results.values)), print('the standard dev is', np.std(keep_results.values)))\n",
    "\n"
   ]
  },
  {
   "cell_type": "code",
   "execution_count": 192,
   "metadata": {},
   "outputs": [],
   "source": [
    "def switch_sim(tries, trials):\n",
    "    switch_always = pd.Series(change_choice(tries))\n",
    "    i = 1\n",
    "    while i <= trials:\n",
    "        switch_always[i]= change_choice(tries)\n",
    "        i += 1\n",
    "    pyplot.hist(switch_always.values)\n",
    "    return(print('the mean probability of winning with switching is', np.mean(switch_always.values)), print('the standard dev is', np.std(switch_always.values)))\n"
   ]
  },
  {
   "cell_type": "markdown",
   "metadata": {},
   "source": [
    "## Keeping it on the First Choice\n",
    "\n",
    "\n"
   ]
  },
  {
   "cell_type": "code",
   "execution_count": 193,
   "metadata": {},
   "outputs": [
    {
     "name": "stdout",
     "output_type": "stream",
     "text": [
      "the mean probability of winning with the first choice is 0.3336996300369963\n",
      "the standard dev is 0.046888927389224226\n"
     ]
    },
    {
     "data": {
      "text/plain": [
       "(None, None)"
      ]
     },
     "execution_count": 193,
     "metadata": {},
     "output_type": "execute_result"
    },
    {
     "data": {
      "image/png": "[encoded data removed]",
      "text/plain": [
       "<Figure size 432x288 with 1 Axes>"
      ]
     },
     "metadata": {},
     "output_type": "display_data"
    }
   ],
   "source": [
    "trials = 10000\n",
    "keep_sim(tries, trials)\n"
   ]
  },
  {
   "cell_type": "markdown",
   "metadata": {},
   "source": [
    "## Staying\n",
    "\n",
    "Above is the histogram of 10,000 trials of 100 tries of standing with your first choice. If you stay on your first choice, you will be successful roughly a third of the time. There is no great variation"
   ]
  },
  {
   "cell_type": "code",
   "execution_count": 194,
   "metadata": {},
   "outputs": [
    {
     "name": "stdout",
     "output_type": "stream",
     "text": [
      "the mean probability of winning with switching is 0.6663593640635936\n",
      "the standard dev is 0.047027792668030054\n"
     ]
    },
    {
     "data": {
      "text/plain": [
       "(None, None)"
      ]
     },
     "execution_count": 194,
     "metadata": {},
     "output_type": "execute_result"
    },
    {
     "data": {
      "image/png": "[encoded data removed]",
      "text/plain": [
       "<Figure size 432x288 with 1 Axes>"
      ]
     },
     "metadata": {},
     "output_type": "display_data"
    }
   ],
   "source": [
    "switch_sim(tries, trials)"
   ]
  },
  {
   "cell_type": "markdown",
   "metadata": {},
   "source": [
    "## Switching\n",
    "\n",
    "Above is the histogram of 10,000 trials of 100 tries of always switching. If you switch from your first choice, you will be successful roughly a two thirds of the time. If you look at the two histograms, you will see that switching is never worse than the best (unusual) results from staying pat.\n",
    "\n",
    "## You should play the switch strategy!"
   ]
  },
  {
   "cell_type": "code",
   "execution_count": null,
   "metadata": {},
   "outputs": [],
   "source": []
  }
 ],
 "metadata": {
  "kernelspec": {
   "display_name": "Python 3",
   "language": "python",
   "name": "python3"
  },
  "language_info": {
   "codemirror_mode": {
    "name": "ipython",
    "version": 3
   },
   "file_extension": ".py",
   "mimetype": "text/x-python",
   "name": "python",
   "nbconvert_exporter": "python",
   "pygments_lexer": "ipython3",
   "version": "3.6.6"
  }
 },
 "nbformat": 4,
 "nbformat_minor": 2
}
