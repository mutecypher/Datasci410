{
 "cells": [
  {
   "cell_type": "markdown",
   "metadata": {},
   "source": [
    "\n",
    "## Lesson 3 Assignment - Monty Hall Simulation\n",
    "\n",
    "Author - Mike Pearson\n",
    "\n",
    "Instructions\n",
    "Simulate the conditional probabilities of the distributions for winning a car vs. a goat for the Monty Hall Problem that includes the following:\n",
    "the cases for switching or not switching\n",
    "histograms and summary statistics (at least mean and variance) of the results for winning the car or a goat for both strategies: switching or not switching\n",
    "comparison of the cases to determine the best strategy\n",
    "recommended strategy\n",
    "Note:\n",
    "Please clearly outline the results and your recommendation with markdown text. Be sure your discussion includes narrative for your figures and tables so it is clear to the reader the importance of each bit of evidence."
   ]
  },
  {
   "cell_type": "code",
   "execution_count": 3,
   "metadata": {},
   "outputs": [
    {
     "name": "stdout",
     "output_type": "stream",
     "text": [
      "6\n"
     ]
    },
    {
     "data": {
      "text/html": [
       "<div>\n",
       "<style scoped>\n",
       "    .dataframe tbody tr th:only-of-type {\n",
       "        vertical-align: middle;\n",
       "    }\n",
       "\n",
       "    .dataframe tbody tr th {\n",
       "        vertical-align: top;\n",
       "    }\n",
       "\n",
       "    .dataframe thead th {\n",
       "        text-align: right;\n",
       "    }\n",
       "</style>\n",
       "<table border=\"1\" class=\"dataframe\">\n",
       "  <thead>\n",
       "    <tr style=\"text-align: right;\">\n",
       "      <th></th>\n",
       "      <th>door1</th>\n",
       "      <th>door2</th>\n",
       "      <th>door3</th>\n",
       "    </tr>\n",
       "  </thead>\n",
       "  <tbody>\n",
       "    <tr>\n",
       "      <th>0</th>\n",
       "      <td>goat1</td>\n",
       "      <td>goat2</td>\n",
       "      <td>car</td>\n",
       "    </tr>\n",
       "    <tr>\n",
       "      <th>1</th>\n",
       "      <td>goat1</td>\n",
       "      <td>car</td>\n",
       "      <td>goat2</td>\n",
       "    </tr>\n",
       "    <tr>\n",
       "      <th>2</th>\n",
       "      <td>goat2</td>\n",
       "      <td>goat1</td>\n",
       "      <td>car</td>\n",
       "    </tr>\n",
       "    <tr>\n",
       "      <th>3</th>\n",
       "      <td>goat2</td>\n",
       "      <td>car</td>\n",
       "      <td>goat1</td>\n",
       "    </tr>\n",
       "    <tr>\n",
       "      <th>4</th>\n",
       "      <td>car</td>\n",
       "      <td>goat1</td>\n",
       "      <td>goat2</td>\n",
       "    </tr>\n",
       "    <tr>\n",
       "      <th>5</th>\n",
       "      <td>car</td>\n",
       "      <td>goat2</td>\n",
       "      <td>goat1</td>\n",
       "    </tr>\n",
       "  </tbody>\n",
       "</table>\n",
       "</div>"
      ],
      "text/plain": [
       "   door1  door2  door3\n",
       "0  goat1  goat2    car\n",
       "1  goat1    car  goat2\n",
       "2  goat2  goat1    car\n",
       "3  goat2    car  goat1\n",
       "4    car  goat1  goat2\n",
       "5    car  goat2  goat1"
      ]
     },
     "execution_count": 3,
     "metadata": {},
     "output_type": "execute_result"
    }
   ],
   "source": [
    "# Import libraries\n",
    "import numpy\n",
    "import itertools\n",
    "import pandas\n",
    "\n",
    "goat1 = 'goat1'\n",
    "goat2 = 'goat2'\n",
    "car = 'car'\n",
    "\n",
    "\n",
    "doors = pandas.DataFrame(\n",
    "    list(itertools.permutations(['goat1', 'goat2', 'car'],3)), \n",
    "    columns=['door1', 'door2', 'door3'])\n",
    "print(len(doors))\n",
    "doors.head(20)"
   ]
  },
  {
   "cell_type": "markdown",
   "metadata": {},
   "source": [
    "Let's see what we have"
   ]
  },
  {
   "cell_type": "code",
   "execution_count": 4,
   "metadata": {},
   "outputs": [
    {
     "data": {
      "text/plain": [
       "[('Car behind Door1', 0.342),\n",
       " ('car behind Door2', 0.325),\n",
       " ('car behind Door3', 0.333)]"
      ]
     },
     "execution_count": 4,
     "metadata": {},
     "output_type": "execute_result"
    }
   ],
   "source": [
    "pGoattry1 = 2/3\n",
    "pCartry1 = 1/3\n",
    "def sim_car(num_samples):\n",
    "  car_probas = [\n",
    "      1/3,  # goat\n",
    "      1/3,  # car\n",
    "      1/3,\n",
    "  ]\n",
    "  \n",
    "  return list(zip(\n",
    "      ['Car behind Door1', 'car behind Door2', 'car behind Door3'], \n",
    "      numpy.random.multinomial(num_samples, car_probas)/num_samples))\n",
    "  \n",
    "sim_car(1000)"
   ]
  },
  {
   "cell_type": "code",
   "execution_count": null,
   "metadata": {},
   "outputs": [],
   "source": []
  }
 ],
 "metadata": {
  "kernelspec": {
   "display_name": "Python 3",
   "language": "python",
   "name": "python3"
  },
  "language_info": {
   "codemirror_mode": {
    "name": "ipython",
    "version": 3
   },
   "file_extension": ".py",
   "mimetype": "text/x-python",
   "name": "python",
   "nbconvert_exporter": "python",
   "pygments_lexer": "ipython3",
   "version": "3.6.6"
  }
 },
 "nbformat": 4,
 "nbformat_minor": 2
}
