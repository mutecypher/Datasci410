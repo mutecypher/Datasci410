{
 "cells": [
  {
   "cell_type": "markdown",
   "metadata": {},
   "source": [
    "# Lesson 3 Assignment - Monty Hall Simulation\n",
    "## Author - Mike Pearson"
   ]
  },
  {
   "cell_type": "markdown",
   "metadata": {},
   "source": [
    "### Instructions\n",
    "Simulate the conditional probabilities of the distributions for winning a car vs. a goat for the Monty Hall Problem that includes the following:\n",
    "1. the cases for switching or not switching\n",
    "2. histograms and summary statistics (at least mean and variance) of the results for winning the car or a goat for both strategies: switching or not switching\n",
    "3. comparison of the cases to determine the best strategy\n",
    "4. recommended strategy\n",
    "\n"
   ]
  },
  {
   "cell_type": "markdown",
   "metadata": {},
   "source": [
    "#### Note: \n",
    "Please clearly outline the results and your recommendation with markdown text. Be sure your discussion includes narrative for your figures and tables so it is clear to the reader the importance of each bit of evidence."
   ]
  },
  {
   "cell_type": "code",
   "execution_count": 3,
   "metadata": {},
   "outputs": [],
   "source": [
    "# Import libraries\n",
    "import itertools as it\n",
    "import pandas as pd"
   ]
  },
  {
   "cell_type": "markdown",
   "metadata": {},
   "source": [
    "In 1975, Steve Selvin published a letter in the American Statistician posing the problem of which strategy is optimal. The resulting debate created considerable controversy. This debate was put at full boil when Marilyn vos Savant wrote in her Ask Marilyn column in Parade magazine that the contestant should definitely switch. She was then ridiculed by several statisticians. \n",
    "What would you do if you were the contestant? Fortunately for you, you know something about conditional probabilities. \n",
    "Your first choice, from the three doors, is purely random, since only Monty knows which door hides the car. You can compute the conditional probabilities of winning the car as follows.\n",
    "There is a probability of 2/3 that your initial pick will be one of the two doors with a goat.\n",
    "At this point, with probability 1 Monty will open the door with the other goat, since he cannot reveal the location of the car. \n",
    "If you switch door choices at this point you will win the car with probability 2/3, or; \n",
    "P(win car with switch | picked goat initially)=1.0∗\n",
    "2\n",
    "3\n",
    "\n",
    "=\n",
    "2\n",
    "3\n",
    "\n",
    "P(win car with switch | picked goat initially)=1.0∗23=23\n",
    "However, if you do not switch, you will have 0 probability of winning the car, or: \n",
    "P(win car no switch | picked goat initially)=0.0∗\n",
    "2\n",
    "3\n",
    "\n",
    "=0.0\n",
    "P(win car no switch | picked goat initially)=0.0∗23=0.0\n",
    "There is a probability of 1/3 that your initial pick will be the only door with the car. \n",
    "At this point, with probability 1/2 Monty can open either of the other doors, as they both contain goats. \n",
    "If you switch door choices at this point you will win the car with probability 0, or; \n",
    "P(win car with switch | picked car initially)=0.0∗\n",
    "1\n",
    "3\n",
    "\n",
    "=0\n",
    "P(win car with switch | picked car initially)=0.0∗13=0\n",
    "However, if you do not switch, you will have probability 1/3 of winning the car, or: \n",
    "P(win car no switch | picked car initially)=1.0∗\n",
    "1\n",
    "3\n",
    "\n",
    "=\n",
    "1\n",
    "3\n",
    "\n",
    "P(win car no switch | picked car initially)=1.0∗13=13\n",
    "Summing up the probabilities you can see that you should always switch your door choice, since:\n",
    "P(win car |switch)=\n",
    "2\n",
    "3\n",
    "\n",
    "+0=\n",
    "2\n",
    "3\n",
    "\n",
    "whereas\n",
    "P(win car |no switch)=\n",
    "1\n",
    "3\n",
    "\n",
    "+0=\n",
    "1\n",
    "3\n",
    "\n",
    "\n",
    "P(win car |switch)=23+0=23whereasP(win car |no switch)=13+0=13\n",
    "The diagram below expands the paths you can take in this contest, and shows the conditional probabilities at each step. \n",
    " \n",
    "The Monty Hall problem has been published in several forms. You can find more on the Monty Hall problem in the Wikipedia article."
   ]
  },
  {
   "cell_type": "code",
   "execution_count": 15,
   "metadata": {},
   "outputs": [
    {
     "name": "stdout",
     "output_type": "stream",
     "text": [
      "['goat', 'goat', 'car']\n",
      "  Door1 Door2 Door3\n",
      "0  goat  goat   car\n",
      "1  goat   car  goat\n",
      "2  goat  goat   car\n",
      "3  goat   car  goat\n",
      "4   car  goat  goat\n",
      "5   car  goat  goat\n"
     ]
    }
   ],
   "source": [
    "prizes = ['goat','goat','car']\n",
    "print(prizes)\n",
    "doorz = pd.DataFrame(list(it.permutations(prizes)), columns =  ['Door1', 'Door2', 'Door3'] )\n",
    "print(doorz)"
   ]
  },
  {
   "cell_type": "code",
   "execution_count": null,
   "metadata": {},
   "outputs": [],
   "source": []
  },
  {
   "cell_type": "code",
   "execution_count": null,
   "metadata": {},
   "outputs": [],
   "source": []
  }
 ],
 "metadata": {
  "kernelspec": {
   "display_name": "Python 3",
   "language": "python",
   "name": "python3"
  },
  "language_info": {
   "codemirror_mode": {
    "name": "ipython",
    "version": 3
   },
   "file_extension": ".py",
   "mimetype": "text/x-python",
   "name": "python",
   "nbconvert_exporter": "python",
   "pygments_lexer": "ipython3",
   "version": "3.7.0"
  }
 },
 "nbformat": 4,
 "nbformat_minor": 2
}
