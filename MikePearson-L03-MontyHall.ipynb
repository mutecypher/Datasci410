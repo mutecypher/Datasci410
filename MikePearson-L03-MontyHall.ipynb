{
 "cells": [
  {
   "cell_type": "markdown",
   "metadata": {},
   "source": [
    "# Lesson 3 Assignment - Monty Hall Simulation\n",
    "## Author - Mike Pearson"
   ]
  },
  {
   "cell_type": "markdown",
   "metadata": {},
   "source": [
    "### Instructions\n",
    "Simulate the conditional probabilities of the distributions for winning a car vs. a goat for the Monty Hall Problem that includes the following:\n",
    "1. the cases for switching or not switching\n",
    "2. histograms and summary statistics (at least mean and variance) of the results for winning the car or a goat for both strategies: switching or not switching\n",
    "3. comparison of the cases to determine the best strategy\n",
    "4. recommended strategy\n",
    "\n"
   ]
  },
  {
   "cell_type": "markdown",
   "metadata": {},
   "source": [
    "#### Note: \n",
    "Please clearly outline the results and your recommendation with markdown text. Be sure your discussion includes narrative for your figures and tables so it is clear to the reader the importance of each bit of evidence."
   ]
  },
  {
   "cell_type": "code",
<<<<<<< HEAD
   "execution_count": 29,
=======
   "execution_count": 3,
>>>>>>> e27ca67e8d291ec531437ef7f9a4597b977427e9
   "metadata": {},
   "outputs": [
    {
     "name": "stdout",
     "output_type": "stream",
     "text": [
      "6\n"
     ]
    },
    {
     "data": {
      "text/html": [
       "<div>\n",
       "<style scoped>\n",
       "    .dataframe tbody tr th:only-of-type {\n",
       "        vertical-align: middle;\n",
       "    }\n",
       "\n",
       "    .dataframe tbody tr th {\n",
       "        vertical-align: top;\n",
       "    }\n",
       "\n",
       "    .dataframe thead th {\n",
       "        text-align: right;\n",
       "    }\n",
       "</style>\n",
       "<table border=\"1\" class=\"dataframe\">\n",
       "  <thead>\n",
       "    <tr style=\"text-align: right;\">\n",
       "      <th></th>\n",
       "      <th>door1</th>\n",
       "      <th>door2</th>\n",
       "      <th>door3</th>\n",
       "    </tr>\n",
       "  </thead>\n",
       "  <tbody>\n",
       "    <tr>\n",
       "      <th>0</th>\n",
       "      <td>goat1</td>\n",
       "      <td>goat2</td>\n",
       "      <td>car</td>\n",
       "    </tr>\n",
       "    <tr>\n",
       "      <th>1</th>\n",
       "      <td>goat1</td>\n",
       "      <td>car</td>\n",
       "      <td>goat2</td>\n",
       "    </tr>\n",
       "    <tr>\n",
       "      <th>2</th>\n",
       "      <td>goat2</td>\n",
       "      <td>goat1</td>\n",
       "      <td>car</td>\n",
       "    </tr>\n",
       "    <tr>\n",
       "      <th>3</th>\n",
       "      <td>goat2</td>\n",
       "      <td>car</td>\n",
       "      <td>goat1</td>\n",
       "    </tr>\n",
       "    <tr>\n",
       "      <th>4</th>\n",
       "      <td>car</td>\n",
       "      <td>goat1</td>\n",
       "      <td>goat2</td>\n",
       "    </tr>\n",
       "    <tr>\n",
       "      <th>5</th>\n",
       "      <td>car</td>\n",
       "      <td>goat2</td>\n",
       "      <td>goat1</td>\n",
       "    </tr>\n",
       "  </tbody>\n",
       "</table>\n",
       "</div>"
      ],
      "text/plain": [
       "   door1  door2  door3\n",
       "0  goat1  goat2    car\n",
       "1  goat1    car  goat2\n",
       "2  goat2  goat1    car\n",
       "3  goat2    car  goat1\n",
       "4    car  goat1  goat2\n",
       "5    car  goat2  goat1"
      ]
     },
     "execution_count": 29,
     "metadata": {},
     "output_type": "execute_result"
    }
   ],
   "source": [
    "# Import libraries\n",
    "import numpy\n",
    "import itertools\n",
    "import pandas\n",
    "\n",
    "goat1 = 'goat1'\n",
    "goat2 = 'goat2'\n",
    "car = 'car'\n",
    "\n",
    "next(itertools.product(door1, door2, door3))\n",
    "\n",
    "doors = pandas.DataFrame(\n",
    "    list(itertools.permutations(['goat1', 'goat2', 'car'],3)), \n",
    "    columns=['door1', 'door2', 'door3'])\n",
    "print(len(doors))\n",
    "doors.head(20)"
   ]
  },
  {
   "cell_type": "markdown",
   "metadata": {},
   "source": [
    "After we get that right, let's simulate the probabilities. Where could the car be?"
   ]
  },
  {
   "cell_type": "code",
   "execution_count": 37,
   "metadata": {},
   "outputs": [
    {
     "data": {
      "text/plain": [
       "[('Car behind Door1', 0.307),\n",
       " ('car behind Door2', 0.337),\n",
       " ('car behind Door3', 0.356)]"
      ]
     },
     "execution_count": 37,
     "metadata": {},
     "output_type": "execute_result"
    }
   ],
   "source": [
<<<<<<< HEAD
    "pGoattry1 = 2/3\n",
    "pCartry1 = 1/3\n",
    "def sim_car(num_samples):\n",
    "  car_probas = [\n",
    "      1/3,  # goat\n",
    "      1/3,  # car\n",
    "      1/3,\n",
    "  ]\n",
    "  \n",
    "  return list(zip(\n",
    "      ['Car behind Door1', 'car behind Door2', 'car behind Door3'], \n",
    "      numpy.random.multinomial(num_samples, car_probas)/num_samples))\n",
    "  \n",
    "sim_car(1000)"
=======
    "# Import libraries\n",
    "import itertools as it\n",
    "import pandas as pd"
   ]
  },
  {
   "cell_type": "markdown",
   "metadata": {},
   "source": [
    "In 1975, Steve Selvin published a letter in the American Statistician posing the problem of which strategy is optimal. The resulting debate created considerable controversy. This debate was put at full boil when Marilyn vos Savant wrote in her Ask Marilyn column in Parade magazine that the contestant should definitely switch. She was then ridiculed by several statisticians. \n",
    "What would you do if you were the contestant? Fortunately for you, you know something about conditional probabilities. \n",
    "Your first choice, from the three doors, is purely random, since only Monty knows which door hides the car. You can compute the conditional probabilities of winning the car as follows.\n",
    "There is a probability of 2/3 that your initial pick will be one of the two doors with a goat.\n",
    "At this point, with probability 1 Monty will open the door with the other goat, since he cannot reveal the location of the car. \n",
    "If you switch door choices at this point you will win the car with probability 2/3, or; \n",
    "P(win car with switch | picked goat initially)=1.0∗\n",
    "2\n",
    "3\n",
    "\n",
    "=\n",
    "2\n",
    "3\n",
    "\n",
    "P(win car with switch | picked goat initially)=1.0∗23=23\n",
    "However, if you do not switch, you will have 0 probability of winning the car, or: \n",
    "P(win car no switch | picked goat initially)=0.0∗\n",
    "2\n",
    "3\n",
    "\n",
    "=0.0\n",
    "P(win car no switch | picked goat initially)=0.0∗23=0.0\n",
    "There is a probability of 1/3 that your initial pick will be the only door with the car. \n",
    "At this point, with probability 1/2 Monty can open either of the other doors, as they both contain goats. \n",
    "If you switch door choices at this point you will win the car with probability 0, or; \n",
    "P(win car with switch | picked car initially)=0.0∗\n",
    "1\n",
    "3\n",
    "\n",
    "=0\n",
    "P(win car with switch | picked car initially)=0.0∗13=0\n",
    "However, if you do not switch, you will have probability 1/3 of winning the car, or: \n",
    "P(win car no switch | picked car initially)=1.0∗\n",
    "1\n",
    "3\n",
    "\n",
    "=\n",
    "1\n",
    "3\n",
    "\n",
    "P(win car no switch | picked car initially)=1.0∗13=13\n",
    "Summing up the probabilities you can see that you should always switch your door choice, since:\n",
    "P(win car |switch)=\n",
    "2\n",
    "3\n",
    "\n",
    "+0=\n",
    "2\n",
    "3\n",
    "\n",
    "whereas\n",
    "P(win car |no switch)=\n",
    "1\n",
    "3\n",
    "\n",
    "+0=\n",
    "1\n",
    "3\n",
    "\n",
    "\n",
    "P(win car |switch)=23+0=23whereasP(win car |no switch)=13+0=13\n",
    "The diagram below expands the paths you can take in this contest, and shows the conditional probabilities at each step. \n",
    " \n",
    "The Monty Hall problem has been published in several forms. You can find more on the Monty Hall problem in the Wikipedia article."
   ]
  },
  {
   "cell_type": "code",
   "execution_count": 15,
   "metadata": {},
   "outputs": [
    {
     "name": "stdout",
     "output_type": "stream",
     "text": [
      "['goat', 'goat', 'car']\n",
      "  Door1 Door2 Door3\n",
      "0  goat  goat   car\n",
      "1  goat   car  goat\n",
      "2  goat  goat   car\n",
      "3  goat   car  goat\n",
      "4   car  goat  goat\n",
      "5   car  goat  goat\n"
     ]
    }
   ],
   "source": [
    "prizes = ['goat','goat','car']\n",
    "print(prizes)\n",
    "doorz = pd.DataFrame(list(it.permutations(prizes)), columns =  ['Door1', 'Door2', 'Door3'] )\n",
    "print(doorz)"
>>>>>>> e27ca67e8d291ec531437ef7f9a4597b977427e9
   ]
  },
  {
   "cell_type": "code",
   "execution_count": null,
   "metadata": {},
   "outputs": [],
   "source": []
  },
  {
   "cell_type": "code",
   "execution_count": null,
   "metadata": {},
   "outputs": [],
   "source": []
  }
 ],
 "metadata": {
  "kernelspec": {
   "display_name": "Python 3",
   "language": "python",
   "name": "python3"
  },
  "language_info": {
   "codemirror_mode": {
    "name": "ipython",
    "version": 3
   },
   "file_extension": ".py",
   "mimetype": "text/x-python",
   "name": "python",
   "nbconvert_exporter": "python",
   "pygments_lexer": "ipython3",
   "version": "3.6.6"
  }
 },
 "nbformat": 4,
 "nbformat_minor": 2
}
