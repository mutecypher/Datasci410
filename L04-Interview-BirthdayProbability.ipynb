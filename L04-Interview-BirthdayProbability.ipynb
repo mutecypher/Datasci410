{
 "cells": [
  {
   "cell_type": "markdown",
   "metadata": {},
   "source": [
    "# Probability Interview Question\n",
    "##   \"Birthday Problem\"\n",
    "\n",
    "Answers to the following questions:\n",
    " 1. What's the probability that at least 1 out of N people share a birthday?\n",
    " 2. How many people do we need to have >= 50% chance of at least one sharing a birthday?\n",
    " \n",
    "Note: To answer these questions, we consider this \"at least\" to be = 1 - P(none share a birthday)"
   ]
  },
  {
   "cell_type": "code",
   "execution_count": 1,
   "metadata": {},
   "outputs": [],
   "source": [
    "from scipy.special import comb, factorial, perm\n",
    "import matplotlib.pyplot as plt\n",
    "%matplotlib inline"
   ]
  },
  {
   "cell_type": "markdown",
   "metadata": {},
   "source": [
    "### Question 1"
   ]
  },
  {
   "cell_type": "code",
   "execution_count": 2,
   "metadata": {},
   "outputs": [
    {
     "name": "stdout",
     "output_type": "stream",
     "text": [
      "Total possible ways for 19 people to have birthdays: 4825745614492126958810682272575693836212158203125\n",
      "\n",
      "Number of ways 19 people to not share a birthday: 2.9962160501227194e+48\n",
      "\n",
      "P(19 people not sharing a birthday)=0.6208814739684633\n",
      "\n",
      "P(At least 1 out of 19 people sharing a birthday) = 0.37911852603153673\n"
     ]
    }
   ],
   "source": [
    "n_people = 19\n",
    "\n",
    "# Calculate probability:\n",
    "# Here is the number of ways n people can have birthdays\n",
    "total_choices = 365 ** n_people\n",
    "print('Total possible ways for {} people to have birthdays: {}'.format(n_people, total_choices))\n",
    "\n",
    "# And here is the number of ways n people DON'T share a birthday. (Pick/permutation)\n",
    "not_share = perm(365, n_people)\n",
    "print('\\nNumber of ways {} people to not share a birthday: {}'.format(n_people, not_share))\n",
    "\n",
    "# Divide to get probability\n",
    "print('\\nP({} people not sharing a birthday)={}'.format(n_people, not_share/total_choices))\n",
    "\n",
    "print('\\nP(At least 1 out of {} people sharing a birthday) = {}'.format(n_people, 1-not_share/total_choices))"
   ]
  },
  {
   "cell_type": "markdown",
   "metadata": {},
   "source": [
    "### Question 2"
   ]
  },
  {
   "cell_type": "code",
   "execution_count": 3,
   "metadata": {},
   "outputs": [
    {
     "name": "stdout",
     "output_type": "stream",
     "text": [
      "Answer: 23 people!\n"
     ]
    }
   ],
   "source": [
    "prob_cutoff = 0.5\n",
    "people_counts = range(1, 50)\n",
    "\n",
    "def get_prob(n_people):\n",
    "    total_choices = 365 ** n_people\n",
    "    not_share = perm(365, n_people)\n",
    "    return 1 - (not_share/total_choices)\n",
    "\n",
    "# For a sequence of people, return the probability of at least\n",
    "probs = [get_prob(x) for x in people_counts]\n",
    "arg_greater_than = next(x[0] for x in enumerate(probs) if x[1] > prob_cutoff)\n",
    "\n",
    "print('Answer: {} people!'.format(people_counts[arg_greater_than]))"
   ]
  },
  {
   "cell_type": "markdown",
   "metadata": {},
   "source": [
    "## Plot probabilities"
   ]
  },
  {
   "cell_type": "code",
   "execution_count": 4,
   "metadata": {},
   "outputs": [
    {
     "data": {
      "image/png": "[encoded data removed]",
      "text/plain": [
       "<Figure size 432x288 with 1 Axes>"
      ]
     },
     "metadata": {},
     "output_type": "display_data"
    }
   ],
   "source": [
    "plt.plot(people_counts, probs)\n",
    "plt.axvline(x=people_counts[arg_greater_than], linestyle='dashed', color = 'black')\n",
    "plt.axhline(y=prob_cutoff, linestyle='dashed', color = 'black')\n",
    "plt.xlabel('Count of people')\n",
    "plt.ylabel('Probability')\n",
    "plt.title('Prob. at least one person shares birthday')\n",
    "plt.show()"
   ]
  },
  {
   "cell_type": "code",
   "execution_count": 5,
   "metadata": {},
   "outputs": [
    {
     "name": "stdout",
     "output_type": "stream",
     "text": [
      "The Zen of Python, by Tim Peters\n",
      "\n",
      "Beautiful is better than ugly.\n",
      "Explicit is better than implicit.\n",
      "Simple is better than complex.\n",
      "Complex is better than complicated.\n",
      "Flat is better than nested.\n",
      "Sparse is better than dense.\n",
      "Readability counts.\n",
      "Special cases aren't special enough to break the rules.\n",
      "Although practicality beats purity.\n",
      "Errors should never pass silently.\n",
      "Unless explicitly silenced.\n",
      "In the face of ambiguity, refuse the temptation to guess.\n",
      "There should be one-- and preferably only one --obvious way to do it.\n",
      "Although that way may not be obvious at first unless you're Dutch.\n",
      "Now is better than never.\n",
      "Although never is often better than *right* now.\n",
      "If the implementation is hard to explain, it's a bad idea.\n",
      "If the implementation is easy to explain, it may be a good idea.\n",
      "Namespaces are one honking great idea -- let's do more of those!\n"
     ]
    }
   ],
   "source": [
    "import this"
   ]
  },
  {
   "cell_type": "code",
   "execution_count": null,
   "metadata": {},
   "outputs": [],
   "source": []
  }
 ],
 "metadata": {
  "kernelspec": {
   "display_name": "Python 3",
   "language": "python",
   "name": "python3"
  },
  "language_info": {
   "codemirror_mode": {
    "name": "ipython",
    "version": 3
   },
   "file_extension": ".py",
   "mimetype": "text/x-python",
   "name": "python",
   "nbconvert_exporter": "python",
   "pygments_lexer": "ipython3",
   "version": "3.6.6"
  }
 },
 "nbformat": 4,
 "nbformat_minor": 2
}
