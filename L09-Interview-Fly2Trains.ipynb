{
 "cells": [
  {
   "cell_type": "markdown",
   "metadata": {},
   "source": [
    "# Interview Question - A fly and 2 Trains\n",
    "------------------------------------------\n",
    "\n",
    "Question: Two trains are slowly going towards each other at 4mph and 6mph and are 20 miles apart.\n",
    "\n",
    "There is a fly that can go 8 mph, flying between each of them.  When the fly arrives at the first train, it instantly turns around and flies back to the other train and so on.\n",
    "\n",
    "What is the total distance the fly goes until the two trains meet?"
   ]
  },
  {
   "cell_type": "code",
   "execution_count": 1,
   "metadata": {},
   "outputs": [
    {
     "name": "stdout",
     "output_type": "stream",
     "text": [
      "Fly traveled: 16.0 miles.\n"
     ]
    }
   ],
   "source": [
    "# Solve this programmatically:\n",
    "total_distance = 0 # Keep track of distance\n",
    "\n",
    "# Now we need to keep track of which train the fly\n",
    "# is headed towards, say 1 = 4mph train, 0 = 6mph train.\n",
    "logical_train = 1\n",
    "\n",
    "# Keep track of distance between:\n",
    "dist_between_trains = 20\n",
    "\n",
    "while dist_between_trains > 0.0001:\n",
    "    if logical_train==1:\n",
    "        # Fly and 4mph train are headed towards each other.\n",
    "        # Combined speed of 4+8 = 12 mph\n",
    "        time_to_intercept = dist_between_trains/12\n",
    "        dist_fly_traveled = time_to_intercept * 8\n",
    "        total_distance = total_distance + dist_fly_traveled\n",
    "\n",
    "        # Need to compute distance train traveled:\n",
    "        dist_train_traveled = time_to_intercept * (4+6)\n",
    "        dist_between_trains = dist_between_trains - dist_train_traveled\n",
    "\n",
    "        # Turn around to other train\n",
    "        logical_train = 0\n",
    "    else:\n",
    "        # Fly and 6mph train are headed towards each other.\n",
    "        # Combined speed of 6+8 = 14 mph\n",
    "        time_to_intercept = dist_between_trains/14\n",
    "        dist_fly_traveled = time_to_intercept * 8\n",
    "        total_distance = total_distance + dist_fly_traveled\n",
    "\n",
    "        # Need to compute distance train traveled:\n",
    "        dist_train_traveled = time_to_intercept * (4+6)\n",
    "        dist_between_trains = dist_between_trains - dist_train_traveled\n",
    "\n",
    "        # Turn around to other train\n",
    "        logical_train = 1\n",
    "\n",
    "print('Fly traveled: {} miles.'.format(round(total_distance, 3)))"
   ]
  },
  {
   "cell_type": "code",
   "execution_count": 2,
   "metadata": {},
   "outputs": [
    {
     "name": "stdout",
     "output_type": "stream",
     "text": [
      "Fly traveled: 16.0 miles.\n"
     ]
    }
   ],
   "source": [
    "# Solve this the short way\n",
    "time_till_trains_meet = 20/(4+6)\n",
    "fly_dist = time_till_trains_meet * 8\n",
    "print('Fly traveled: {} miles.'.format(round(fly_dist, 3)))"
   ]
  },
  {
   "cell_type": "code",
   "execution_count": null,
   "metadata": {},
   "outputs": [],
   "source": []
  }
 ],
 "metadata": {
  "kernelspec": {
   "display_name": "Python 3",
   "language": "python",
   "name": "python3"
  },
  "language_info": {
   "codemirror_mode": {
    "name": "ipython",
    "version": 3
   },
   "file_extension": ".py",
   "mimetype": "text/x-python",
   "name": "python",
   "nbconvert_exporter": "python",
   "pygments_lexer": "ipython3",
   "version": "3.6.6"
  }
 },
 "nbformat": 4,
 "nbformat_minor": 2
}
