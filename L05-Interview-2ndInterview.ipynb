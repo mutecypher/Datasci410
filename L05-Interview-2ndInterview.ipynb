{
 "cells": [
  {
   "cell_type": "markdown",
   "metadata": {},
   "source": [
    "# Interview question - Second Interview\n",
    "\n",
    "### Question from an Amazon Interview (source: Glassdoor.com)\n",
    "--------------------------------\n",
    "Three assumptions about 1st and 2nd interviews of candidates:\n",
    "- 50% of all people who get a 1st interview get a 2nd interview\n",
    "- 95% of people you know who got a 2nd interview feel they did well on first interview\n",
    "- 75% of people you know who didn't get a 2nd interview feel they did well on first interview\n",
    "\n",
    "If you feel you did well, what is the probability you get a second interview?\n",
    "\n",
    "```\n",
    "Bayes law:\n",
    "                          __ (did well)\n",
    "                         /\n",
    "   _   (2nd Interview)  <\n",
    "  /                      \\__ (didn't do well)\n",
    " /\n",
    "<                         __ (did well)\n",
    " \\                       /\n",
    "  \\_ (no 2nd interview) <\n",
    "                         \\__ (didn't do well)\n",
    "\n",
    "\n",
    "                             P(did well | 2nd) * P(2nd)\n",
    "P(2nd Interview | did well) = ------------------------\n",
    "                                   P(did well)\n",
    "```"
   ]
  },
  {
   "cell_type": "code",
   "execution_count": null,
   "metadata": {},
   "outputs": [],
   "source": [
    "# First, figure out the probabilities of each branch element:\n",
    "p_2nd = 0.5\n",
    "p_no2nd = 1 - p_2nd\n",
    "\n",
    "p_didwell_given_2nd = 0.95\n",
    "p_notwell_given_2nd = 1 - p_didwell_given_2nd\n",
    "\n",
    "p_didwell_given_no2nd = 0.75\n",
    "p_notwell_given_no2nd = 1 - p_didwell_given_no2nd"
   ]
  },
  {
   "cell_type": "code",
   "execution_count": null,
   "metadata": {},
   "outputs": [],
   "source": [
    "# Figure out the probabilities of each branch in total:\n",
    "p_didwell_and_2nd   = p_2nd * p_didwell_given_2nd\n",
    "p_notwell_and_2nd   = p_2nd * p_notwell_given_2nd\n",
    "p_didwell_and_no2nd = p_no2nd * p_didwell_given_no2nd\n",
    "p_notwell_and_no2nd = p_no2nd * p_notwell_given_no2nd"
   ]
  },
  {
   "cell_type": "code",
   "execution_count": null,
   "metadata": {},
   "outputs": [],
   "source": [
    "# Figure out the probabilities in general for 'not going well' and 'going well'\n",
    "p_didwell = p_didwell_and_2nd + p_didwell_and_no2nd\n",
    "p_notwell = p_notwell_and_2nd + p_notwell_and_no2nd"
   ]
  },
  {
   "cell_type": "code",
   "execution_count": null,
   "metadata": {},
   "outputs": [],
   "source": [
    "# What we are interested in:\n",
    "# P(2nd interview | did well)\n",
    "p_2nd_given_didwell = p_didwell_given_2nd * p_2nd / p_didwell\n",
    "print('Prob(2nd Interview | 1st went well) = {}'.format(p_2nd_given_didwell))\n",
    "\n",
    "# Which is only slightly better than the 50% overall.\n",
    "# but:\n",
    "p_2nd_given_not_well = p_notwell_given_2nd * p_2nd / p_notwell\n",
    "print('Prob(2nd Interview | 1st DID\\'T go well) = {}'.format(p_2nd_given_not_well))"
   ]
  }
 ],
 "metadata": {
  "kernelspec": {
   "display_name": "Python 3",
   "language": "python",
   "name": "python3"
  },
  "language_info": {
   "codemirror_mode": {
    "name": "ipython",
    "version": 3
   },
   "file_extension": ".py",
   "mimetype": "text/x-python",
   "name": "python",
   "nbconvert_exporter": "python",
   "pygments_lexer": "ipython3",
   "version": "3.6.4"
  }
 },
 "nbformat": 4,
 "nbformat_minor": 2
}
